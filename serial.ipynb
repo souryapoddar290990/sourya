{
 "cells": [
  {
   "cell_type": "code",
   "execution_count": 24,
   "metadata": {
    "collapsed": true
   },
   "outputs": [],
   "source": [
    "import requests,time,csv,pprint,sys,xlwt,datetime,MySQLdb\n",
    "from bs4 import BeautifulSoup\n",
    "import smtplib\n",
    "from email.MIMEMultipart import MIMEMultipart\n",
    "from email.MIMEText import MIMEText\n",
    "from email.MIMEBase import MIMEBase\n",
    "from email import encoders"
   ]
  },
  {
   "cell_type": "code",
   "execution_count": 25,
   "metadata": {
    "collapsed": true
   },
   "outputs": [],
   "source": [
    "def serial_search(url_temp):\n",
    "    serial = raw_input('Please enter serial name: ')\n",
    "    url_page0 = url_temp + 'api/GetSeries.php?seriesname=' + serial\n",
    "    text0 = BeautifulSoup(requests.get(url_page0).text)\n",
    "    search_list = text0.findAll('series')\n",
    "    serial_list = []\n",
    "    for index,serials in enumerate(search_list): serial_list.append([search_list[index].find('seriesid').text,search_list[index].find('seriesname').text])\n",
    "    return len(serial_list),serial_list"
   ]
  },
  {
   "cell_type": "code",
   "execution_count": 26,
   "metadata": {
    "collapsed": true
   },
   "outputs": [],
   "source": [
    "def serial_finalize(serial_list,flag0,series_id):\n",
    "    for index,item in enumerate(serial_list): print index+1,item[1]\n",
    "    series_id_temp = int(raw_input('Please enter serial option: '))-1\n",
    "    if series_id_temp >=0 and series_id_temp<flag0: return 1, serial_list[series_id_temp][0]\n",
    "    else: return 0, 0"
   ]
  },
  {
   "cell_type": "code",
   "execution_count": 27,
   "metadata": {
    "collapsed": true
   },
   "outputs": [],
   "source": [
    "def serial_details_display(url_temp,series_id):\n",
    "    url_page1 = url_temp + '?tab=series&id=' + series_id + '&lid=7'\n",
    "    text1 = BeautifulSoup(requests.get(url_page1).text)\n",
    "    summary = text1.select('#content')[0].findAll(text=True)[2].replace(\"\\t\",\"\").replace(\"\\n\",\"\").encode('utf-8')\n",
    "    serial = text1.select('#content')[0].findAll(text=True)[1].replace(\"\\t\",\"\").replace(\"\\n\",\"\").encode('utf-8')\n",
    "    network = text1.select('#content')[1].findAll(text=True)[43].replace(\"\\t\",\"\").replace(\"\\n\",\"\").encode('utf-8')\n",
    "    if len(network) == 0: print series_id,\"\\n\",serial,\"\\n\",\"No Data\",\"\\n\"+summary\n",
    "    else: print series_id,\"\\n\",serial,\"\\n\",network,\"\\n\"+summary\n",
    "    return serial"
   ]
  },
  {
   "cell_type": "code",
   "execution_count": 28,
   "metadata": {
    "collapsed": true
   },
   "outputs": [],
   "source": [
    "def episodes_download(serial,url_temp,series_id):\n",
    "    url_page2 = url_temp + '?tab=seasonall&id=' + series_id + '&lid=7'\n",
    "    text2 = BeautifulSoup(requests.get(url_page2).text)\n",
    "    filename = serial.title() + \".xls\"\n",
    "    book = xlwt.Workbook(encoding=\"utf-8\")\n",
    "    sheet1 = book.add_sheet(\"All\")\n",
    "    row_num_count = 0\n",
    "    for row_num in range(1,len(text2.select(\"#listtable tr\"))):\n",
    "        table_row = text2.select(\"#listtable tr\")[row_num]\n",
    "        table_cells = table_row.findAll('td')\n",
    "        relative_link_to_episodes = table_cells[0].find('a')['href']\n",
    "        try:\n",
    "            season,episode = int(table_cells[0].find('a').text.strip().split(\" x \")[0]),int(table_cells[0].find('a').text.strip().split(\" x \")[1])\n",
    "            name = table_cells[1].find('a').text.strip().title()\n",
    "            date = table_cells[2].text.strip().split(\"-\")\n",
    "            day,month,year = int(date[2]),int(date[1]),int(date[0])\n",
    "            absolute_link_to_episodes = url_temp + relative_link_to_episodes\n",
    "            text3 = BeautifulSoup(requests.get(absolute_link_to_episodes).text)\n",
    "            summary = text3.select(\"#datatable tr\")[7].findAll('td')[1].findAll('textarea', {'name':'Overview_7'})[0].text.strip()\n",
    "            sheet1.write(row_num_count,0,serial)\n",
    "            sheet1.write(row_num_count,1,season)\n",
    "            sheet1.write(row_num_count,2,episode)\n",
    "            sheet1.write(row_num_count,3,name)\n",
    "            sheet1.write(row_num_count,4,day)\n",
    "            sheet1.write(row_num_count,5,month)\n",
    "            sheet1.write(row_num_count,6,year)\n",
    "            sheet1.write(row_num_count,7,summary)\n",
    "            row_num_count += 1\n",
    "        except:pass\n",
    "    book.save(filename)"
   ]
  },
  {
   "cell_type": "code",
   "execution_count": 29,
   "metadata": {
    "collapsed": true
   },
   "outputs": [],
   "source": [
    "def episodes_view(serial,url_temp,series_id):\n",
    "    url_page2 = url_temp + '?tab=seasonall&id=' + series_id + '&lid=7'\n",
    "    text2 = BeautifulSoup(requests.get(url_page2).text)\n",
    "    for row_num in range(1,len(text2.select(\"#listtable tr\"))):\n",
    "        try:\n",
    "            table_row = text2.select(\"#listtable tr\")[row_num]\n",
    "            table_cells = table_row.findAll('td')\n",
    "            relative_link_to_episodes = table_cells[0].find('a')['href']\n",
    "            season,episode = int(table_cells[0].find('a').text.strip().split(\" x \")[0]),int(table_cells[0].find('a').text.strip().split(\" x \")[1])\n",
    "            name = table_cells[1].find('a').text.strip().title()\n",
    "            date = table_cells[2].text.strip().split(\"-\")\n",
    "            date_new = date[2]+\"/\"+date[1]+\"/\"+date[0]\n",
    "            absolute_link_to_episodes = url_temp + relative_link_to_episodes\n",
    "            text3 = BeautifulSoup(requests.get(absolute_link_to_episodes).text)\n",
    "            summary = text3.select(\"#datatable tr\")[7].findAll('td')[1].findAll('textarea', {'name':'Overview_7'})[0].text.strip()\n",
    "            # print season,episode,name,date_new,summary\n",
    "            print 'insert into t1 values (\"'+serial.title()+'\",\"'+name.title()+'\",'+str(season)+','+str(episode)+',\"No\",\"No\",\"No\",'+str(date[2])+','+str(date[1])+','+str(date[0])+',\"'+summary+'\",\"N\",\"N\",0);'\n",
    "        except: pass"
   ]
  },
  {
   "cell_type": "code",
   "execution_count": 30,
   "metadata": {
    "collapsed": false
   },
   "outputs": [],
   "source": [
    "def main_funct():\n",
    "    url_temp, flag0, flag1, flag2, series_id = 'http://thetvdb.com/', 0, 0, 0, 0\n",
    "    while flag2 == 0:\n",
    "        while flag0 == 0: flag0, serial_list = serial_search(url_temp)\n",
    "        while flag1 == 0: flag1, series_id = serial_finalize(serial_list,flag0,series_id)\n",
    "        serial = serial_details_display(url_temp,series_id)\n",
    "        while flag2 == 0:\n",
    "            print 1, \"View episodes\"\n",
    "            print 2, \"Download episodes\"\n",
    "            print 3, \"Return to search\"\n",
    "            print 4, \"Exit\"\n",
    "            option = int(raw_input(\"select option: \"))\n",
    "            if option >= 1 and option <= 4: flag2 = option\n",
    "        if flag2 == 1: episodes_view(serial,url_temp,series_id)\n",
    "        if flag2 == 2: episodes_download(serial,url_temp,series_id)\n",
    "        if flag2 == 3: flag0, flag1, flag2 = 0, 0, 0\n",
    "        if flag2 == 4: return 0\n",
    "\n",
    "# main_funct()"
   ]
  },
  {
   "cell_type": "code",
   "execution_count": 31,
   "metadata": {
    "collapsed": false
   },
   "outputs": [],
   "source": [
    "def episodes_view_future():\n",
    "    info = raw_input('Please enter details: ').split(\",\")\n",
    "    url_temp,serial,season_exist,episode_exist,series_id = 'http://thetvdb.com/',info[0],int(info[1]),int(info[2]),info[3]\n",
    "    url_page2 = url_temp + '?tab=seasonall&id=' + series_id + '&lid=7'\n",
    "    text2 = BeautifulSoup(requests.get(url_page2).text)\n",
    "    for row_num in range(1,len(text2.select(\"#listtable tr\"))):\n",
    "        try:\n",
    "            table_row = text2.select(\"#listtable tr\")[row_num]\n",
    "            table_cells = table_row.findAll('td')\n",
    "            relative_link_to_episodes = table_cells[0].find('a')['href']\n",
    "            season,episode = int(table_cells[0].find('a').text.strip().split(\" x \")[0]),int(table_cells[0].find('a').text.strip().split(\" x \")[1])\n",
    "            if season < season_exist: pass\n",
    "            if (season == season_exist and episode > episode_exist) or (season > season_exist):\n",
    "                name = table_cells[1].find('a').text.strip().title()\n",
    "                date = table_cells[2].text.strip().split(\"-\")\n",
    "                date_new = date[2]+\"/\"+date[1]+\"/\"+date[0]\n",
    "                absolute_link_to_episodes = url_temp + relative_link_to_episodes\n",
    "                text3 = BeautifulSoup(requests.get(absolute_link_to_episodes).text)\n",
    "                try: summary = text3.select(\"#datatable tr\")[7].findAll('td')[1].findAll('textarea', {'name':'Overview_7'})[0].text.strip()\n",
    "                except: summary = \"\"\n",
    "                print 'insert into t1 values (\"'+serial.title()+'\",\"'+name.title()+'\",'+str(season)+','+str(episode)+',\"No\",\"No\",\"No\",'+str(date[2])+','+str(date[1])+','+str(date[0])+',\"'+summary+'\",\"N\",\"N\");'\n",
    "        except Exception,e: print e\n",
    "\n",
    "# episodes_view_future()"
   ]
  },
  {
   "cell_type": "code",
   "execution_count": 32,
   "metadata": {
    "collapsed": true
   },
   "outputs": [],
   "source": [
    "def get_date(time):\n",
    "    temp = datetime.datetime.fromtimestamp(time)\n",
    "    return temp.strftime(\"%d\"),temp.strftime(\"%m\"),temp.strftime(\"%Y\")"
   ]
  },
  {
   "cell_type": "code",
   "execution_count": 43,
   "metadata": {
    "collapsed": true
   },
   "outputs": [],
   "source": [
    "def episodes_today(serial,url_temp,series_id,today):\n",
    "    doc = []\n",
    "    url_page2 = url_temp + '?tab=seasonall&id=' + series_id + '&lid=7'\n",
    "    text2 = BeautifulSoup(requests.get(url_page2).text)\n",
    "    for row_num in range(1,len(text2.select(\"#listtable tr\"))):\n",
    "        try:\n",
    "            table_row = text2.select(\"#listtable tr\")[row_num]\n",
    "            table_cells = table_row.findAll('td')\n",
    "            season,episode = int(table_cells[0].find('a').text.strip().split(\" x \")[0]),int(table_cells[0].find('a').text.strip().split(\" x \")[1])\n",
    "            date = table_cells[2].text.strip()\n",
    "            if date == today: doc.append(serial+','+str(season)+','+str(episode))\n",
    "            else: pass\n",
    "        except Exception,e: pass\n",
    "    return doc"
   ]
  },
  {
   "cell_type": "code",
   "execution_count": 61,
   "metadata": {
    "collapsed": true
   },
   "outputs": [],
   "source": [
    "def serial_mail():\n",
    "    current_time = time.time()-86400\n",
    "    day,month,year = get_date(current_time)\t\n",
    "    today = str(year)+'-'+str(month)+'-'+str(day)\n",
    "    rarbg = 'https://rarbg.is/torrents.php?search='\n",
    "    db=MySQLdb.connect(host=\"127.0.0.1\",port=3306,user=\"root\",passwd=\"290990\",db=\"tv\")\n",
    "    cursor = db.cursor()\n",
    "    query = \"select serial,tvdb_id from t2\"\n",
    "    cursor.execute(query)\n",
    "    data = cursor.fetchall()\n",
    "    msg = '<html><body><table style=\"font-family:Segoe UI;border:1px solid black\"><tr><td>SERIAL</td><td>SEASON</td><td>EPISODE</td><td>LOW</td><td>HIGH</td><tr>'\n",
    "    for item in data:\n",
    "        print item\n",
    "        doc = episodes_today(item[0],\"http://thetvdb.com/\",str(item[1]),today)\n",
    "        for vals in doc:\n",
    "            val = vals.split(\",\")\n",
    "            serial,season,episode = val[0],int(val[1]),int(val[2])\n",
    "            if season < 10: season_text = '0'+str(season)\n",
    "            else: season_text = str(season)\n",
    "            if episode < 10: episode_text = '0'+str(episode)\n",
    "            else: episode_text = str(episode)\n",
    "            searchld = kickass+serial+' S'+season_text+'E'+episode_text+' 720p'\n",
    "            searchhd = kickass+serial+' S'+season_text+'E'+episode_text+' 1080p'\n",
    "            # print serial,season,episode\n",
    "            # print search\n",
    "            msg += '<tr><td>'+serial+'</td><td>'+str(season)+'</td><td>'+str(episode)+'</td><td><a href=\"'+searchld+'\">720p</a></td><td><a href=\"'+searchhd+'\">1080p</a></td></tr>'\n",
    "    msg += '</table></body></html>'\n",
    "    return msg"
   ]
  },
  {
   "cell_type": "code",
   "execution_count": 62,
   "metadata": {
    "collapsed": false
   },
   "outputs": [
    {
     "name": "stdout",
     "output_type": "stream",
     "text": [
      "('Homeland', 247897L)\n",
      "('Modern Family', 95011L)\n",
      "('Once Upon A Time', 248835L)\n",
      "('The Big Bang Theory', 80379L)\n",
      "('Marvels Agents Of SHIELD', 263365L)\n",
      "('Veep', 237831L)\n",
      "('The Flash', 279121L)\n",
      "('Elementary', 255316L)\n",
      "('Game Of Thrones', 121361L)\n",
      "('Arrow', 257655L)\n",
      "('Last Week Tonight With John Oliver', 278518L)\n",
      "('The Last Man On Earth', 281622L)\n",
      "('Vixen', 298305L)\n",
      "('Quantico', 295515L)\n",
      "('Maigret', 309212L)\n",
      "('Designated Survivor', 311876L)\n"
     ]
    }
   ],
   "source": [
    "def send_mail():\n",
    "    fromaddr = 'souryapoddar290990@gmail.com'\n",
    "    toaddr = [\"souryapoddar290990@gmail.com\"]\n",
    "    password = \"sourya1000\"\n",
    "    subject = \"SERIAL UPDATE\"\n",
    "    body = serial_mail()\n",
    "    # print body\n",
    "    msg = MIMEMultipart()\n",
    "    msg['From'] = fromaddr\n",
    "    msg['To'] = \",\".join(toaddr)\n",
    "    msg['Subject'] = subject\n",
    "    msg.attach(MIMEText(body, 'html'))\n",
    "    server = smtplib.SMTP('smtp.gmail.com', 587)\n",
    "    server.starttls()\n",
    "    server.login(fromaddr,password)\n",
    "    text = msg.as_string()\n",
    "    server.sendmail(fromaddr, toaddr, text)\n",
    "    server.quit()\n",
    "\n",
    "send_mail()"
   ]
  },
  {
   "cell_type": "code",
   "execution_count": 19,
   "metadata": {
    "collapsed": true
   },
   "outputs": [],
   "source": [
    "def send_push():\n",
    "    from pushbullet import Pushbullet\n",
    "    API_KEY = 'o.nYHrQiyqBr2NTj59HaQFSSGsgoLDYQrv'\n",
    "    API_KEY = 'o.gmWPEjdjJvbZRqnTvCc7sHkonggCW48I'\n",
    "    pb = Pushbullet(API_KEY)\n",
    "    current_time = time.time()-86400\n",
    "    day,month,year = get_date(current_time)\t\n",
    "    today = str(year)+'-'+str(month)+'-'+str(day)\n",
    "    kickass = 'http://kickass.to/usearch/'\n",
    "    db=MySQLdb.connect(host=\"localhost\",port=3306,user=\"root\",passwd=\"290990\",db=\"tv\")\n",
    "    cursor = db.cursor()\n",
    "    query = \"select serial,tvdb_id,name from t3\"\n",
    "    cursor.execute(query)\n",
    "    data = cursor.fetchall()\n",
    "    title = \"Serial\"\n",
    "    text = \"\"\n",
    "    for item in data:\n",
    "        doc = episodes_today(item[0],\"http://thetvdb.com/\",str(item[1]),today)\n",
    "        for vals in doc:\n",
    "            val = vals.split(\",\")\n",
    "            serial,season,episode = val[0],val[1],val[2]\n",
    "            text += serial+' '+season+'.'+episode+'\\n'\n",
    "    push = pb.push_note(title,text)\n",
    "\n",
    "# send_push()"
   ]
  }
 ],
 "metadata": {
  "kernelspec": {
   "display_name": "Python 2",
   "language": "python",
   "name": "python2"
  },
  "language_info": {
   "codemirror_mode": {
    "name": "ipython",
    "version": 2
   },
   "file_extension": ".py",
   "mimetype": "text/x-python",
   "name": "python",
   "nbconvert_exporter": "python",
   "pygments_lexer": "ipython2",
   "version": "2.7.11"
  }
 },
 "nbformat": 4,
 "nbformat_minor": 0
}
