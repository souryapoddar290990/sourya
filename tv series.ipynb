{
 "cells": [
  {
   "cell_type": "code",
   "execution_count": 1,
   "metadata": {
    "collapsed": false
   },
   "outputs": [],
   "source": [
    "import os,sys,urllib2,json,pprint,requests,time,datetime,subprocess,MySQLdb\n",
    "import numpy as np\n",
    "import pandas as pd\n",
    "import datetime as dt\n",
    "from bottle import route, run, template, request, redirect, static_file"
   ]
  },
  {
   "cell_type": "code",
   "execution_count": 2,
   "metadata": {
    "collapsed": true
   },
   "outputs": [],
   "source": [
    "db=MySQLdb.connect(host=\"127.0.0.1\",port=3306,user=\"root\",passwd=\"290990\",db=\"tv\")\n",
    "cursor = db.cursor()"
   ]
  },
  {
   "cell_type": "code",
   "execution_count": 3,
   "metadata": {
    "collapsed": true
   },
   "outputs": [],
   "source": [
    "month_name = {0:\"\", 1:\"January\", 2:\"February\", 3:\"March\", 4:\"April\", 5:\"May\", 6:\"June\", 7:\"July\", 8:\"August\", 9:\"September\", 10:\"October\", 11:\"November\", 12:\"December\"}\n",
    "master_username = \"aryasourya\"\n",
    "master_password = \"123456\""
   ]
  },
  {
   "cell_type": "code",
   "execution_count": 4,
   "metadata": {
    "collapsed": true
   },
   "outputs": [],
   "source": [
    "def create_t1_table():\n",
    "    query = \"CREATE TABLE `t1` (`serial` VARCHAR(200) NOT NULL DEFAULT '',`name` VARCHAR(200) NULL DEFAULT NULL,`season` INT(5) NOT NULL DEFAULT '0',`episode` INT(5) NOT NULL DEFAULT '0',`seena` ENUM('Yes','No') NULL DEFAULT NULL,`seens` ENUM('Yes','No') NULL DEFAULT NULL,`sub` ENUM('Yes','No','NA') NULL DEFAULT NULL,`day` INT(11) NULL DEFAULT NULL,`month` INT(15) NULL DEFAULT NULL,`year` INT(11) NULL DEFAULT NULL,`summary` VARCHAR(4000) NULL DEFAULT NULL,`pics` ENUM('Y','N') NULL DEFAULT NULL,`ppt` ENUM('Y','N') NULL DEFAULT NULL,`rating` FLOAT NULL DEFAULT NULL,PRIMARY KEY (`serial`,`season`,`episode`))\"\n",
    "    # query = \"TRUNCATE TABLE t1\"\n",
    "    cursor.execute(query)\n",
    "    data = cursor.fetchall()\n",
    "    db.commit()"
   ]
  },
  {
   "cell_type": "code",
   "execution_count": 5,
   "metadata": {
    "collapsed": true
   },
   "outputs": [],
   "source": [
    "def create_t2_table():\n",
    "    query = \"CREATE TABLE `t2` (`serial` VARCHAR(200) NULL DEFAULT NULL,`time` INT(2) UNSIGNED ZEROFILL NULL DEFAULT NULL,`status` VARCHAR(15) NULL DEFAULT NULL,`genre` VARCHAR(15) NULL DEFAULT NULL,`network` VARCHAR(40) NULL DEFAULT NULL,`theme` VARCHAR(2000) NULL DEFAULT NULL,`runtime` FLOAT NULL DEFAULT NULL,`tvdb_id` INT(10) NULL DEFAULT NULL)\"\n",
    "    # query = \"TRUNCATE TABLE t2\"\n",
    "    cursor.execute(query)\n",
    "    data = cursor.fetchall()\n",
    "    db.commit()"
   ]
  },
  {
   "cell_type": "code",
   "execution_count": 6,
   "metadata": {
    "collapsed": true
   },
   "outputs": [],
   "source": [
    "def insert_t1_csv():\n",
    "    data = pd.read_csv('t1.csv')\n",
    "    for index, item in data.iterrows():\n",
    "        try: output = '\"'+item[0]+'\",\"'+item[1]+'\",'+str(item[2])+','+str(item[3])+',\"'+item[4]+'\",\"'+item[5]+'\",\"'+item[6]+'\",'+str(item[7])+','+str(item[8])+','+str(item[9])+',\"'+item[10]+'\",\"'+item[11]+'\",\"'+item[12]+'\",\"'+str(item[13])\n",
    "        except:\n",
    "            if type(item[6]) == float: item[6] = \"NA\"\n",
    "            if type(item[10]) == float: item[10] = \"\"\n",
    "            output = '\"'+item[0]+'\",\"'+item[1]+'\",'+str(item[2])+','+str(item[3])+',\"'+item[4]+'\",\"'+item[5]+'\",\"'+item[6]+'\",'+str(item[7])+','+str(item[8])+','+str(item[9])+',\"'+item[10]+'\",\"'+item[11]+'\",\"'+item[12]+'\",\"'+str(item[13])\n",
    "        prefix = \"INSERT INTO t1 VALUES (\"\n",
    "        query = prefix+output+'\")'\n",
    "        query = query.replace(\"'\",\"\\'\")\n",
    "        try:\n",
    "            cursor.execute(query)\n",
    "            db.commit()\n",
    "            print '\"'+item[0]+'\",\"'+item[1]+'\",'+str(item[2])+','+str(item[3])\n",
    "        except Exception,e: print e"
   ]
  },
  {
   "cell_type": "code",
   "execution_count": 7,
   "metadata": {
    "collapsed": true
   },
   "outputs": [],
   "source": [
    "def insert_t2_csv():\n",
    "    data = pd.read_csv('t2.csv')\n",
    "    for index, item in data.iterrows():\n",
    "        if type(item[5]) == float: item[5] = ''\n",
    "        try: output = '\"'+item[0]+'\",'+str(item[1])+',\"'+item[2]+'\",\"'+item[3]+'\",\"'+item[4]+'\",\"'+item[5]+'\",'+str(int(item[6]))+','+str(item[7])\n",
    "        except: output = '\"'+item[0]+'\",'+str(item[1])+',\"'+item[2]+'\",\"'+item[3]+'\",\"'+item[4]+'\",\"'+item[5]+'\",'+str(int(item[6]))+','+str(item[7])\n",
    "        prefix = \"INSERT INTO t2 VALUES (\"\n",
    "        query = prefix+output+')'\n",
    "        query = query.replace(\"'\",\"\\'\")\n",
    "        try:\n",
    "            cursor.execute(query)\n",
    "            db.commit()\n",
    "        except Exception,e: print e"
   ]
  },
  {
   "cell_type": "code",
   "execution_count": 8,
   "metadata": {
    "collapsed": true
   },
   "outputs": [],
   "source": [
    "@route('/play/<name>/<season>/<episode>/<epi_name>')\n",
    "def play_video(name,season,episode,epi_name):\n",
    "    if int(episode) < 10: episode_nums = '0'+episode\n",
    "    else: episode_nums = episode\n",
    "    filename = '\"F:\\ARYA SOURYA/TELEVISION/'+name+'/SEASON '+str(season)+'/'+episode_nums+' - '+epi_name+'.mkv\"'\n",
    "    subprocess.Popen(\"taskkill /IM vlc.exe\")\n",
    "    subprocess.Popen('C:/Program Files (x86)/VideoLAN/VLC/vlc.exe '+filename)\n",
    "    return redirect('/season/'+name+'/'+str(season)+'/'+str(episode))"
   ]
  },
  {
   "cell_type": "code",
   "execution_count": 9,
   "metadata": {
    "collapsed": true
   },
   "outputs": [],
   "source": [
    "@route('/<filename:re:.*\\.js>')\n",
    "def stylesheets(filename):\n",
    "    return static_file(filename, root='static/js')\n",
    "\n",
    "@route('/<filename:re:.*\\.css>')\n",
    "def stylesheets(filename):\n",
    "    return static_file(filename, root='static/css')\n",
    "\n",
    "@route('/<filename:re:.*\\.(jpg|png|gif|ico)>')\n",
    "def images(filename):\n",
    "    return static_file(filename, root='static/img')\n",
    "\n",
    "@route('/<filename:re:.*\\.(mp4|mkv|lnk)>')\n",
    "def videos(filename):\n",
    "    return static_file(filename, root='static/vid')"
   ]
  },
  {
   "cell_type": "code",
   "execution_count": 10,
   "metadata": {
    "collapsed": true
   },
   "outputs": [],
   "source": [
    "def show_others():\n",
    "    temp = datetime.datetime.fromtimestamp(time.time())\n",
    "    day,month,year = temp.strftime(\"%d\"),temp.strftime(\"%m\"),temp.strftime(\"%Y\")\n",
    "\n",
    "    querya = \"select count(t1.name),t2.runtime*count(t1.name) from t1,t2 where (t1.day+t1.month*30+t1.year*365)<=(\"+day+\"+\"+month+\"*30+\"+year+\"*365)&&t1.seena='No'&&(t1.serial=t2.serial) group by t1.serial\"\n",
    "    cursor.execute(querya)\n",
    "    adatas = cursor.fetchall()\n",
    "    adata1,aepi,aday,ahr,amin = 0,0,0,0,0\n",
    "    try:\n",
    "        for adata in adatas:\n",
    "            aepi += adata[0]\n",
    "            adata1 += adata[1]\n",
    "\n",
    "        aday += int(adata1/1440)\n",
    "        ahr = int((adata1/60)%24)\n",
    "        amin = int(adata1%60)\n",
    "    except: aepi,aday,ahr,amin = 0,0,0,0\n",
    "\n",
    "    querys = \"select count(t1.name),t2.runtime*count(t1.name) from t1,t2 where (t1.day+t1.month*30+t1.year*365)<=(\"+day+\"+\"+month+\"*30+\"+year+\"*365)&&t1.seens='No'&&(t1.serial=t2.serial) group by t1.serial\"\n",
    "    cursor.execute(querys)\n",
    "    sdatas = cursor.fetchall()\n",
    "    sdata1,sepi,sday,shr,smin = 0,0,0,0,0\n",
    "    try:\n",
    "        for sdata in sdatas:\n",
    "            sepi += sdata[0]\n",
    "            sdata1 += sdata[1]\n",
    "\n",
    "        sday += int(sdata1/1440)\n",
    "        shr = int((sdata1/60)%24)\n",
    "        smin = int(sdata1%60)    \n",
    "    except: sepi,sday,shr,smin = 0,0,0,0\n",
    "\n",
    "    msg = '<table id=\"htab\"><tr><td id=\"tv\">&nbsp;</td><td id=\"shows\">&nbsp</td></tr></table>'\n",
    "    msg += '<div id=\"stat\"><table id=\"stat\"><tr><td id=\"td16\">viewers</td><td id=\"td15\">episodes</td><td id=\"td15\">days</td><td id=\"td15\">hours</td><td id=\"td15\">minutes</td></tr><tr><td id=\"td11\">Arya</td><td id=\"td18\">'+str(aepi)+'</td><td id=\"td12\">'+str(aday)+'<td id=\"td12\">'+str(ahr)+'<td id=\"td12\">'+str(amin)+'</td></tr><tr><td id=\"td13\">Sourya</td><td id=\"td14\">'+str(sepi)+'</td><td id=\"td14\">'+str(sday)+'<td id=\"td14\">'+str(shr)+'<td id=\"td14\">'+str(smin)+'</td></tr></table></div>'\n",
    "    msg += '<div id=\"extra1\"><a href=\"/left/na/na\" id=\"ue\"><img src=\"uwe.png\"></a></div><div id=\"extra2\"><a href=\"\" id=\"ue\"><img src=\"uce.png\"></a></div>'\n",
    "    return msg"
   ]
  },
  {
   "cell_type": "code",
   "execution_count": 11,
   "metadata": {
    "collapsed": true
   },
   "outputs": [],
   "source": [
    "def get_serial_list():\n",
    "    query = \"select * from t2 order by serial\"\n",
    "    cursor.execute(query)\n",
    "    data = cursor.fetchall()\n",
    "    #print \"data\",data\n",
    "    count,msg = 0,\"\"\n",
    "    for index,item in enumerate(data):\n",
    "        if int(index/6) == count:\n",
    "            msg += '<div id=\"sertab'+str(count+1)+'\"><table id=\"tabser\">'\n",
    "            count += 1\n",
    "        msg += '<tr><td><a href=\"/serial/'+item[0]+'\"><img src=\"'+item[0]+'/3.jpg\"></a></td></tr><tr><td id=\"hblnkr\"></td></tr>'\n",
    "        if int((index+1)/6) == count:\n",
    "            msg += '</table></div>'\n",
    "    #print msg\n",
    "    return msg"
   ]
  },
  {
   "cell_type": "code",
   "execution_count": 12,
   "metadata": {
    "collapsed": true
   },
   "outputs": [],
   "source": [
    "def check_login(username, password):\n",
    "    if (username == master_username) and (password == master_password):\n",
    "        return 1"
   ]
  },
  {
   "cell_type": "code",
   "execution_count": 13,
   "metadata": {
    "collapsed": true
   },
   "outputs": [],
   "source": [
    "@route('/login')\n",
    "def login():\n",
    "    return '<form action=\"/login\" method=\"post\">Username: <input name=\"username\" type=\"text\" />Password: <input name=\"password\" type=\"password\" />            <input value=\"Login\" type=\"submit\" />        </form>'\n",
    "        \n",
    "@route('/login', method='POST')\n",
    "def do_login():\n",
    "    username = request.forms.get('username')\n",
    "    password = request.forms.get('password')\n",
    "    if check_login(username, password):\n",
    "        # return \"<p>Your login information was correct.</p>\"\n",
    "        return redirect('/show')\n",
    "    else:\n",
    "        return \"<p>Login failed.</p>\""
   ]
  },
  {
   "cell_type": "code",
   "execution_count": 14,
   "metadata": {
    "collapsed": true
   },
   "outputs": [],
   "source": [
    "@route('/show')\n",
    "def main():\n",
    "    msg = '<html><head><link rel=\"stylesheet\" href=\"style.css\" type=\"text/css\" ><link rel=\"shortcut icon\" type=\"image/x-icon\" href=\"logo_tv.png\" /><title>Shows</title></head><body id=\"shows\">'+show_others()+get_serial_list()+'<body><html>'\n",
    "    return msg"
   ]
  },
  {
   "cell_type": "code",
   "execution_count": 15,
   "metadata": {
    "collapsed": true
   },
   "outputs": [],
   "source": [
    "@route('/serial/<name>')\n",
    "def serial(name):\n",
    "    query = \"select * from t2 where serial='\"+name+\"'\"\n",
    "    cursor.execute(query)\n",
    "    data = cursor.fetchone()\n",
    "    serial,runtime,status,genre,network,theme = data[0],str(data[1]),data[2],data[3],data[4],data[5]\n",
    "    \n",
    "    query = \"select season from t1 where serial='\"+name+\"' group by season order by season desc\"\n",
    "    cursor.execute(query)\n",
    "    seasons = cursor.fetchone()[0]\n",
    "    \n",
    "    query=\"select day,month,year from t1 where serial='\"+name+\"' limit 0,1\";\n",
    "    cursor.execute(query)\n",
    "    date = cursor.fetchone()\n",
    "    day,month,year = date[0],date[1],date[2]\n",
    "    if day == 0: release_date = \"N/A\"\n",
    "    if day>0 and day<10: day=\"0\"+str(day)\n",
    "    release_date = str(day)+\" \"+month_name[month]+\" \"+str(year)\n",
    "    \n",
    "    temp = datetime.datetime.fromtimestamp(time.time())\n",
    "    day,month,year = temp.strftime(\"%d\"),temp.strftime(\"%m\"),temp.strftime(\"%Y\")\n",
    "    query=\"select count(*) from t1 where (day+month*30+year*365)<=(\"+day+\"+\"+month+\"*30+\"+year+\"*365)&&serial='\"+name+\"'\";\n",
    "    cursor.execute(query)\n",
    "    episodes = str(cursor.fetchone()[0])\n",
    "\n",
    "    msg = '<html><head><title>Serial</title><link rel=\"stylesheet\" href=\"../style.css\" type=\"text/css\" ><link href=\"../jquery.mCustomScrollbar.css\" rel=\"stylesheet\" /><script src=\"../jquery.min.js\"></script><script src=\"../jquery.mCustomScrollbar.concat.min.js\"></script><script src=\"../serial_2_scroll.js\"></script></head><body background=\"../'+name+'/1.jpg\" style=\"background-size:1536px 864px;background-attachment:fixed;background-repeat:no-repeat;\"><table id=\"stab\"><tr><td><a href=\"/show\"><img src=\"../wback.png\" width=\"44\" height=\"44\" onMouseOver=src=\"../wwback.png\" onMouseOut=src=\"../wback.png\" onMouseDown=src=\"../bbback.png\"></a></td><td id=\"td0\">'+name+'</td></tr></table><div style=\"width:374px;height:550px;margin-top:40px;margin-left:65px;border:1px white solid;\"><img src=\"../'+name+'/2.jpg\"></div>'\n",
    "    msg += '<div id=\"serial1\"><table id=\"tab10\"><tr><td id=\"td25\">Information</td><td></td></tr><tr><td></td></tr><tr><td id=\"td24\">Status:</td><td id=\"td26\">'+status+'</td></tr><tr><td id=\"td24\">Genre:</td><td id=\"td26\">'+genre+'</td></tr><tr><td id=\"td24\">Network:</td><td id=\"td26\">'+network+'</td></tr><tr><td id=\"td24\">Runtime:</td><td id=\"td26\">'+runtime+' mins</td></tr><tr><td id=\"td24\">Seasons:</td><td id=\"td26\">'+str(seasons)+'</td></tr><tr><td id=\"td24\">Episodes:</td><td id=\"td26\">'+episodes+'</td></tr><tr><td id=\"td24\">Started:</td><td id=\"td26\">'+release_date+'</td></tr></table><table id=\"tab10\"><tr><td></td><td></td></tr><tr><td id=\"td23\">Theme</td><td></td></tr><tr><td id=\"td22\">'+theme+'</td></tr></table></div>'\n",
    "    msg += '<div id=\"serial2\"><table id=\"tab11\">'\n",
    "    for season in range(seasons):\n",
    "        if season<9: pre_season=\"0\"+str(season+1)\n",
    "        else: pre_season = str(season+1)\n",
    "        msg += '<tr><td id=\"td20\"><a href=\"/season/'+name+'/'+str(season+1)+'/'+'1\"\">Season <span>'+pre_season+'</span></a></td></tr><tr><td id=\"td21\"></td></tr>'\n",
    "    msg += '</table></div>'\n",
    "    return msg"
   ]
  },
  {
   "cell_type": "code",
   "execution_count": 16,
   "metadata": {
    "collapsed": true
   },
   "outputs": [],
   "source": [
    "@route('/season/<name>/<season>/<episode>')\n",
    "def season(name,season,episode):\n",
    "    msg = '<html><head><title>Season</title><link rel=\"stylesheet\" href=\"../../../style.css\" type=\"text/css\" ><link href=\"../../../jquery.mCustomScrollbar.css\" rel=\"stylesheet\" /><script src=\"../../../jquery.min.js\"></script><script src=\"../../../jquery.mCustomScrollbar.concat.min.js\"></script><script src=\"../../../ssn_scroll.js\"></script></head>'\n",
    "    msg += '<body background=\"../../../'+name+'/1.jpg\" style=\"background-size:1536px 864px;background-attachment:fixed;background-repeat:no-repeat;\"><table id=\"stab\"><tr><td><a href=\"/serial/'+name+'\"><img src=\"../../../wback.png\" width=\"44\" height=\"44\" onMouseOver=src=\"../../../wwback.png\" onMouseOut=src=\"../../../wback.png\" onMouseDown=src=\"../../../bbback.png\"></a></td><td id=\"td0\">'+name+'</td><td id=\"td\">Season '+str(season)+'</td></tr></table>'\n",
    "    msg += '<div id=\"ssn\">'\n",
    "    query = \"select name,episode,day,month,year from t1 where serial='\"+name+\"' and season=\"+str(season)\n",
    "    cursor.execute(query)\n",
    "    data = cursor.fetchall()\n",
    "    for item in data:\n",
    "        episode_name,episode_num,day,month,year = item[0],item[1],item[2],item[3],item[4]\n",
    "        if day==0: day,month,year = \"\",\"\",\"\"\n",
    "        else:\n",
    "            if day<10: day=\"0\"+str(day)\n",
    "            month=month_name[month]\n",
    "\n",
    "        if episode_num<10: episode_nums = \"0\"+str(episode_num)\n",
    "        else: episode_nums = str(episode_num)\n",
    "\n",
    "        msg += '<a href=\"/season/'+name+'/'+str(season)+'/'+str(episode_num)+'\"><table background=\"../../../'+name+'/'+str(season)+'/'+str(episode_nums)+'.png\" style=\"border-collapse:collapse; background-size:312px 176px;\"><tr><td id=\"td6\"></td></tr><tr><td id=\"td7\">'+episode_nums+' - '+episode_name+'</td></tr><tr><td id=\"td8\">'+str(day)+' '+month+' '+str(year)+'</td></tr></table></a><table><tr><td id=\"td9\"></td></tr></table>'\n",
    "    msg += '</div>'\n",
    "\n",
    "    query = \"select name,seena,seens,sub,day,month,year,summary from t1 where serial='\"+name+\"' and season='\"+str(season)+\"' and episode='\"+str(episode)+\"'\";\n",
    "    cursor.execute(query)\n",
    "    data = cursor.fetchone()\n",
    "    epi_name,epi_seena,epi_seens,epi_sub,epi_day,epi_month,epi_year,epi_summary = data[0],data[1],data[2],data[3],data[4],data[5],data[6],data[7]\n",
    "    if epi_day == 0: epi_day,epi_month,epi_year = \"\",\"\",\"\"\n",
    "    else:\n",
    "        if epi_day<10: epi_day=\"0\"+str(epi_day)\n",
    "        epi_month=month_name[epi_month]\n",
    "\n",
    "    if int(episode)<10: episode_nums = \"0\"+str(episode)\n",
    "    else: episode_nums = str(episode)\n",
    "\n",
    "    \n",
    "    msg += '<div id=\"content\"><table id=\"etab\"><tr><td colspan=\"3\" id=\"td1\">'+epi_name+'</td></tr>'\n",
    "    msg += '<tr><td rowspan=\"6\" id=\"td10\"><a href=\"../../../play/'+name+'/'+str(season)+'/'+str(episode)+'/'+epi_name+'\"><img src=\"../../../'+name+'/'+str(season)+'/'+str(episode_nums)+'.png\"><span id=\"download\"><img src=\"../../../to_play_v2.png\"></span></a></td>'\n",
    "    # msg += '<tr><td rowspan=\"6\" id=\"td10\"><a href=\"../../../'+name+'/'+str(season)+'/'+episode_nums+' - '+epi_name+' - Shortcut.lnk\" download><img src=\"../../../'+name+'/'+str(season)+'/'+str(episode_nums)+'.png\"><span id=\"download\">Click to download</span></a></td>'\n",
    "\n",
    "    msg += '<td id=\"td2\">Aired On:&nbsp;&nbsp;&nbsp;&nbsp;&nbsp;&nbsp;</td><td id=\"td3\" colspan=\"2\">'+str(epi_day)+' '+month+' '+str(year)+'</td></tr><tr><td id=\"td2\">Season:</td><td id=\"td3\">'+str(season)+'</td></tr><tr><td id=\"td2\">Episode:</td><td id=\"td3\">'+str(episode)+'</td></tr>'\n",
    "    msg += '<tr><td id=\"td2\">Arya:</td><td id=\"td3\">'+epi_seena+'</td><td><a href=\"../../../bypass/'+name+'/'+str(season)+'/'+str(episode)+'/seena/'+epi_seena+'\"><img src=\"../../../'+epi_seena.lower()+'.png\"></a></td></tr>'\n",
    "    msg += '<tr><td id=\"td2\">Sourya:</td><td id=\"td3\">'+epi_seens+'</td><td><a href=\"../../../bypass/'+name+'/'+str(season)+'/'+str(episode)+'/seens/'+epi_seens+'\"><img src=\"../../../'+epi_seens.lower()+'.png\"></a></td></tr>'    \n",
    "    msg += '<tr><td id=\"td2\">Subtitle:</td><td id=\"td3\">'+epi_sub+'</td><td><a href=\"../../../bypass/'+name+'/'+str(season)+'/'+str(episode)+'/sub/'+epi_sub+'\"><img src=\"../../../'+epi_sub.lower()+'.png\"></a></td></tr>'\n",
    "    msg += '</table><table><tr><td id=\"td4\">Summary</td></tr><tr><td id=\"td5\">'+epi_summary+'</td></tr></table></div>'\n",
    "\n",
    "    msg += '</body></html>'\n",
    "    return msg"
   ]
  },
  {
   "cell_type": "code",
   "execution_count": 17,
   "metadata": {
    "collapsed": true
   },
   "outputs": [],
   "source": [
    "@route('/bypass/<name>/<season>/<episode>/<types>/<val>')\n",
    "def change_flag(name,season,episode,types,val):\n",
    "    if val == \"Yes\": val_rev = \"No\"\n",
    "    if val == \"No\": val_rev = \"Yes\"\n",
    "    query = 'update t1 set '+types+'=\"'+val_rev+'\" where serial=\"'+name+'\" and season=\"'+str(season)+'\" and episode=\"'+str(episode)+'\"';\n",
    "    cursor.execute(query)\n",
    "    db.commit()\n",
    "    return redirect('/season/'+name+'/'+str(season)+'/'+str(episode))"
   ]
  },
  {
   "cell_type": "code",
   "execution_count": 18,
   "metadata": {
    "collapsed": true
   },
   "outputs": [],
   "source": [
    "@route('/setseen/<name>/<season>/<episode>/<types>')\n",
    "def set_seen(name,season,episode,types):\n",
    "    query = 'update t1 set '+types+'=\"Yes\" where serial=\"'+name+'\" and season=\"'+str(season)+'\" and episode=\"'+str(episode)+'\"';\n",
    "    cursor.execute(query)\n",
    "    db.commit()\n",
    "    return redirect('../../../../left/'+name+'/'+types)"
   ]
  },
  {
   "cell_type": "code",
   "execution_count": 19,
   "metadata": {
    "collapsed": true
   },
   "outputs": [],
   "source": [
    "@route('/left/<name>/<user>')\n",
    "def left(name,user):\n",
    "    msg = '<html><head><title>Left</title><link rel=\"stylesheet\" href=\"../../../style.css\" type=\"text/css\" ><link href=\"../../../jquery.mCustomScrollbar.css\" rel=\"stylesheet\" /><script src=\"../../../jquery.min.js\"></script><script src=\"../../../jquery.mCustomScrollbar.concat.min.js\"></script><script src=\"../../../left_scroll.js\"></script></head><body id=\"left\">'\n",
    "    temp = datetime.datetime.fromtimestamp(time.time())\n",
    "    day,month,year = temp.strftime(\"%d\"),temp.strftime(\"%m\"),temp.strftime(\"%Y\")\n",
    "    query = \"select serial,count(*) from t1 where (day+month*30+year*365)<=(\"+day+\"+\"+month+\"*30+\"+year+\"*365) and seena='No' group by serial\"\n",
    "    cursor.execute(query)\n",
    "    datas = cursor.fetchall()\n",
    "\n",
    "    msg += '<table id=\"stab\"><tr><td><a href=\"/show\"><img src=\"../../../bback.png\" width=\"44\" height=\"44\" onMouseOver=src=\"../../../wbbback.png\" onMouseOut=src=\"../../../bback.png\" onMouseDown=src=\"../../../bbback.png\"></a></td><td id=\"tv\">Unwatched</td><td id=\"shows\">Episodes</td></tr></table><div id=\"serltab1\"><table id=\"tabser\"><tr><td>Arya</td></tr><tr><td id=\"blank\"></td></tr></table><div id=\"leftarya\">'\n",
    "    for data in datas:\n",
    "        msg += '<a href=\"../../left/'+str(data[0])+'/seena\"><table id=\"left\"><tr id=\"left\"><td id=\"td27\"><img src=\"../../../'+str(data[0])+'/3.jpg\" height=\"56\" width=\"304\"></td><td id=\"td28\">'+str(data[1])+'</td></tr></table></a>'\n",
    "    msg += '</div></div>'\n",
    "    \n",
    "    query = \"select serial,count(*) from t1 where (day+month*30+year*365)<=(\"+day+\"+\"+month+\"*30+\"+year+\"*365) and seens='No' group by serial\"\n",
    "    cursor.execute(query)\n",
    "    datas = cursor.fetchall()\n",
    "\n",
    "    msg += '<div id=\"serltab2\"><table id=\"tabser\"><tr><td>Sourya</td></tr><tr><td id=\"blank\"></td></tr></table><div id=\"leftsourya\">'\n",
    "    for data in datas:\n",
    "        msg += '<a href=\"../../left/'+str(data[0])+'/seens\"><table id=\"left\"><tr id=\"left\"><td id=\"td29\">'+str(data[1])+'</td><td id=\"td27\"><img src=\"../../../'+str(data[0])+'/3.jpg\" height=\"56\" width=\"304\"></td></tr></table></a>'\n",
    "\n",
    "    msg += '</div></div>'\n",
    "\n",
    "    if name == 'na': return msg+'</body></html>'\n",
    "\n",
    "    msg += '<div id=\"contentleft\"><table style=\"border-collapse:collapse;\">'\n",
    "    query = \"select name,season,episode from t1 where (day+month*30+year*365)<=(\"+day+\"+\"+month+\"*30+\"+year+\"*365) and serial='\"+name+\"'&&\"+user+\"='No'\";\n",
    "    cursor.execute(query)\n",
    "    datas = cursor.fetchall()\n",
    "    for data in datas:\n",
    "        if data[2]<10: epis = \"0\"+str(data[2])\n",
    "        else: epis = str(data[2])\n",
    "        msg += '<tr style=\"font-family:Segoe UI Light\"><td style=\"padding:0px 10px 0px 20px;\"><a href=\"../../../season/'+name+'/'+str(data[1])+'/'+str(data[2])+'\" style=\"text-decoration:none;color:#008dd5;\">'+data[0]+'</a></td><td style=\"color:#d6ac30;\">'+str(data[1])+'<span style=\"color:#008ddf;\">-</span><span style=\"color:black;\">'+epis+'</span></td><td style=\"padding-left:15px;\"><a href=\"../../../setseen/'+name+'/'+str(data[1])+'/'+str(data[2])+'/'+user+'\"><img src=\"../../../no.png\"></td></a></tr>'\n",
    "    msg += '</table></div></body></html>'\n",
    "\n",
    "    return msg"
   ]
  },
  {
   "cell_type": "code",
   "execution_count": 20,
   "metadata": {
    "collapsed": true
   },
   "outputs": [],
   "source": [
    "@route('/tasks')\n",
    "def taskmanager():\n",
    "    task_type = ['None','Download','Convert','Subtitle','Watch','Dataentry','Sound','Seagate','WD','Tele','Mega','Drive']\n",
    "    task_assigned = ['None','Arya','Sourya']\n",
    "\n",
    "    msg = '<html><script type=\"text/javascript\" src=\"https://code.jquery.com/jquery-latest.min.js\"></script><script src=\"jquery.datetimepicker.js\"></script><script src=\"date.js\"></script><script src=\"https://code.jquery.com/jquery-1.10.2.js\"></script><script src=\"https://code.jquery.com/ui/1.11.4/jquery-ui.js\"></script><link rel=\"stylesheet\" type=\"text/css\" href=\"jquery.datetimepicker.css\"><link rel=\"stylesheet\" href=\"https://code.jquery.com/ui/1.11.4/themes/smoothness/jquery-ui.css\"><body>'\n",
    "    msg += '<h3>INCOMPLETE TASK</h3>'\n",
    "    msg += '<form method=\"post\" action=\"http://localhost:8080/tasks\"><table><tr>'\n",
    "    msg += '<td>Description&nbsp;<input id=\"title\" name=\"title\"></td>'\n",
    "    msg += '<td>Type&nbsp;<select name=\"type\" id=\"type\">'\n",
    "    for item in task_type: msg += '<option value=\"'+item+'\">'+item+'</option>'\n",
    "    msg += '</select></td>'\n",
    "\n",
    "    msg += '<td>Asignee&nbsp;<select name=\"assigned\" id=\"assigned\">'\n",
    "    for item in task_assigned: msg += '<option value=\"'+item+'\">'+item+'</option>'\n",
    "    msg += '</select></td>'\n",
    "    msg += '<td>Date&nbsp;<input id=\"datepicker\" name=\"datepicker\"></td>'\n",
    "    # msg += '<td><p id=\"submit\">Submit</p></td>'\n",
    "    msg += '<td><input type=\"submit\"/></td>'\n",
    "    msg += '</tr></table></form>'\n",
    "    query1 = 'select * from taskmanager where status=\"Pending\"'\n",
    "    cursor.execute(query1)\n",
    "    data1 = cursor.fetchall()\n",
    "    # print data\n",
    "    msg += '<table>'\n",
    "    msg += '<tr><td>Created</td><td>Title</td><td>Type</td><td>Date</td><td>Assigned</td><td>Status</td></tr>'\n",
    "    for item in data1:\n",
    "        msg += '<tr><td>'+str(item[0])+'</td><td>'+item[3]+\"</td><td>\"+item[1]+'</td><td>'+str(item[5])+'/'+str(item[6])+'/'+str(item[7])+'</td><td>'+item[4]+'</td><td><a href=\"/update_task/1/'+str(item[0])+'\">done</a></td></tr>'\n",
    "    msg += '</table>'\n",
    "    msg += '<h3>COMPLETED TASK</h3>'\n",
    "    query2 = 'select * from taskmanager where status=\"Finished\"'\n",
    "    cursor.execute(query2)\n",
    "    data2 = cursor.fetchall()\n",
    "    # print data\n",
    "    msg += '<table>'\n",
    "    msg += '<tr><td>Finished</td><td>Title</td><td>Type</td><td>Date</td><td>Assigned</td><td>Status</td></tr>'\n",
    "    for item in data2:\n",
    "        msg += '<tr><td>'+str(item[8])+'</td><td>'+item[3]+\"</td><td>\"+item[1]+'</td><td>'+str(item[5])+'/'+str(item[6])+'/'+str(item[7])+'</td><td>'+item[4]+'</td><td><a href=\"/update_task/2/'+str(item[0])+'\">delete</a></td></tr>'\n",
    "    msg += '</table>'    \n",
    "    msg += '</body></html>'\n",
    "    \n",
    "    return msg"
   ]
  },
  {
   "cell_type": "code",
   "execution_count": 21,
   "metadata": {
    "collapsed": true
   },
   "outputs": [],
   "source": [
    "@route('/update_task/<types>/<timestamp>')\n",
    "def update_task(types,timestamp):\n",
    "    if types == \"1\": query = 'update taskmanager set status=\"Finished\",finished_timestamp=now() where create_timestamp=\"'+timestamp+'\"'\n",
    "    if types == \"2\": query = 'delete from taskmanager where create_timestamp=\"'+timestamp+'\"' \n",
    "    cursor.execute(query)\n",
    "    db.commit()    \n",
    "    return redirect('/tasks')"
   ]
  },
  {
   "cell_type": "code",
   "execution_count": 22,
   "metadata": {
    "collapsed": true
   },
   "outputs": [],
   "source": [
    "@route('/tasks', method='POST')\n",
    "def get_task_details():\n",
    "    entry_title = request.forms.get('title')\n",
    "    entry_type = request.forms.get('type')\n",
    "    entry_assigned = request.forms.get('assigned')\n",
    "    entry_date = request.forms.get('datepicker').split(\"/\")\n",
    "    # print entry_title,entry_type,entry_status,entry_assigned,entry_date[1],entry_date[0],entry_date[2]\n",
    "    query = 'insert into taskmanager values(now(),\"'+entry_type+'\",\"Pending\",\"'+entry_title+'\",\"'+entry_assigned+'\",'+entry_date[1]+','+entry_date[0]+','+entry_date[2]+',\"\")'\n",
    "    #print query\n",
    "    cursor.execute(query)\n",
    "    db.commit()\n",
    "    return redirect('/tasks')"
   ]
  },
  {
   "cell_type": "code",
   "execution_count": null,
   "metadata": {
    "collapsed": true
   },
   "outputs": [],
   "source": [
    "def null_input(var):\n",
    "    if var == \"\": var = \"is not null\"\n",
    "    else: var = \"='\"+var+\"'\"\n",
    "    return var\n",
    "\n",
    "def filter_list(genre,series_status,network,runtime):\n",
    "    genre = null_input(genre)\n",
    "    series_status = null_input(series_status)\n",
    "    network = null_input(network)\n",
    "    runtime = null_input(runtime)\n",
    "    query = \"select serial,genre,status,network,runtime,run from (select *,case when runtime<=0 then 'less30' when runtime between 31 and 60 then 'bet31-60' else 'grt60' end as run from t2) as a where a.genre \"+genre+\" and a.status \"+series_status+\" and a.network \"+network+\" and a.run \"+runtime+\"\"\n",
    "    cursor.execute(query)\n",
    "    data = cursor.fetchall()\n",
    "    #print data\n",
    "    return data"
   ]
  },
  {
   "cell_type": "code",
   "execution_count": null,
   "metadata": {
    "collapsed": false
   },
   "outputs": [
    {
     "name": "stderr",
     "output_type": "stream",
     "text": [
      "Bottle v0.12.13 server starting up (using WSGIRefServer())...\n",
      "Listening on http://localhost:8050/\n",
      "Hit Ctrl-C to quit.\n",
      "\n",
      "127.0.0.1 - - [08/Oct/2017 09:32:10] \"GET /show HTTP/1.1\" 200 9816\n",
      "127.0.0.1 - - [08/Oct/2017 09:32:10] \"GET /style.css HTTP/1.1\" 200 8250\n",
      "127.0.0.1 - - [08/Oct/2017 09:32:10] \"GET /uwe.png HTTP/1.1\" 200 6537\n",
      "127.0.0.1 - - [08/Oct/2017 09:32:11] \"GET /Dig/3.jpg HTTP/1.1\" 200 32915\n",
      "127.0.0.1 - - [08/Oct/2017 09:32:11] \"GET /Sense8/3.jpg HTTP/1.1\" 200 48149\n",
      "127.0.0.1 - - [08/Oct/2017 09:32:11] \"GET /House%20MD/3.jpg HTTP/1.1\" 200 28032\n",
      "127.0.0.1 - - [08/Oct/2017 09:32:11] \"GET /Studio%2060%20On%20The%20Sunset%20Strip/3.jpg HTTP/1.1\" 200 64766\n",
      "127.0.0.1 - - [08/Oct/2017 09:32:11] \"GET /Marvels%20Iron%20Fist/3.jpg HTTP/1.1\" 200 53515\n",
      "127.0.0.1 - - [08/Oct/2017 09:32:11] \"GET /Dexter/3.jpg HTTP/1.1\" 200 26862\n",
      "127.0.0.1 - - [08/Oct/2017 09:32:11] \"GET /The%20Good%20Place/3.jpg HTTP/1.1\" 200 50404\n",
      "127.0.0.1 - - [08/Oct/2017 09:32:11] \"GET /Quantico/3.jpg HTTP/1.1\" 200 29177\n",
      "127.0.0.1 - - [08/Oct/2017 09:32:11] \"GET /True%20Detective/3.jpg HTTP/1.1\" 200 35187\n",
      "127.0.0.1 - - [08/Oct/2017 09:32:11] \"GET /Sports%20Night/3.jpg HTTP/1.1\" 200 24879\n",
      "127.0.0.1 - - [08/Oct/2017 09:32:11] \"GET /Sherlock/3.jpg HTTP/1.1\" 200 38070\n",
      "127.0.0.1 - - [08/Oct/2017 09:32:11] \"GET /How%20I%20Met%20Your%20Mother/3.jpg HTTP/1.1\" 200 33693\n",
      "127.0.0.1 - - [08/Oct/2017 09:32:11] \"GET /Swat%20Kats%20The%20Radical%20Squadron/3.jpg HTTP/1.1\" 200 54104\n",
      "127.0.0.1 - - [08/Oct/2017 09:32:11] \"GET /Inu%20Yasha/3.jpg HTTP/1.1\" 200 63314\n",
      "127.0.0.1 - - [08/Oct/2017 09:32:12] \"GET /The%20X-Files/3.jpg HTTP/1.1\" 200 34410\n",
      "127.0.0.1 - - [08/Oct/2017 09:32:12] \"GET /Vixen/3.jpg HTTP/1.1\" 200 41416\n",
      "127.0.0.1 - - [08/Oct/2017 09:32:12] \"GET /White%20Collar/3.jpg HTTP/1.1\" 200 51816\n",
      "127.0.0.1 - - [08/Oct/2017 09:32:12] \"GET /Blackadder/3.jpg HTTP/1.1\" 200 29746\n",
      "127.0.0.1 - - [08/Oct/2017 09:32:12] \"GET /Castle/3.jpg HTTP/1.1\" 200 44504\n",
      "127.0.0.1 - - [08/Oct/2017 09:32:12] \"GET /Lie%20To%20Me/3.jpg HTTP/1.1\" 200 63224\n",
      "127.0.0.1 - - [08/Oct/2017 09:32:12] \"GET /Once%20Upon%20A%20Time/3.jpg HTTP/1.1\" 200 421552\n",
      "127.0.0.1 - - [08/Oct/2017 09:32:12] \"GET /Maigret/3.jpg HTTP/1.1\" 200 39590\n",
      "127.0.0.1 - - [08/Oct/2017 09:32:12] \"GET /Friends/3.jpg HTTP/1.1\" 200 29627\n",
      "127.0.0.1 - - [08/Oct/2017 09:32:12] \"GET /Black%20Mirror/3.jpg HTTP/1.1\" 200 32935\n",
      "127.0.0.1 - - [08/Oct/2017 09:32:12] \"GET /Numb3rs/3.jpg HTTP/1.1\" 200 45079\n",
      "127.0.0.1 - - [08/Oct/2017 09:32:12] \"GET /The%20Newsroom/3.jpg HTTP/1.1\" 200 24423\n",
      "127.0.0.1 - - [08/Oct/2017 09:32:12] \"GET /House%20Of%20Cards/3.jpg HTTP/1.1\" 200 21985\n",
      "127.0.0.1 - - [08/Oct/2017 09:32:12] \"GET /The%20Fall/3.jpg HTTP/1.1\" 200 25214\n",
      "127.0.0.1 - - [08/Oct/2017 09:32:12] \"GET /Mr%20Bean/3.jpg HTTP/1.1\" 200 70006\n",
      "127.0.0.1 - - [08/Oct/2017 09:32:12] \"GET /Westworld/3.jpg HTTP/1.1\" 200 37996\n",
      "127.0.0.1 - - [08/Oct/2017 09:32:12] \"GET /The%20Flash/3.jpg HTTP/1.1\" 200 52174\n",
      "127.0.0.1 - - [08/Oct/2017 09:32:13] \"GET /How%20Its%20Made/3.jpg HTTP/1.1\" 200 51982\n",
      "127.0.0.1 - - [08/Oct/2017 09:32:13] \"GET /DreamWorks%20Dragons/3.jpg HTTP/1.1\" 200 174313\n",
      "127.0.0.1 - - [08/Oct/2017 09:32:13] \"GET /Veep/3.jpg HTTP/1.1\" 200 21343\n",
      "127.0.0.1 - - [08/Oct/2017 09:32:13] \"GET /uce.png HTTP/1.1\" 200 6100\n",
      "127.0.0.1 - - [08/Oct/2017 09:32:13] \"GET /Marvels%20The%20Defenders/3.jpg HTTP/1.1\" 200 41406\n",
      "127.0.0.1 - - [08/Oct/2017 09:32:13] \"GET /Mr%20Robot/3.jpg HTTP/1.1\" 200 29246\n",
      "127.0.0.1 - - [08/Oct/2017 09:32:13] \"GET /Veronica%20Mars/3.jpg HTTP/1.1\" 200 27295\n",
      "127.0.0.1 - - [08/Oct/2017 09:32:13] \"GET /24/3.jpg HTTP/1.1\" 200 48052\n",
      "127.0.0.1 - - [08/Oct/2017 09:32:13] \"GET /Marvels%20Agents%20Of%20SHIELD/3.jpg HTTP/1.1\" 200 31929\n",
      "127.0.0.1 - - [08/Oct/2017 09:32:13] \"GET /Legends%20Of%20The%20Hidden%20Temple/3.jpg HTTP/1.1\" 200 31894\n",
      "127.0.0.1 - - [08/Oct/2017 09:32:13] \"GET /The%20Night%20Manager/3.jpg HTTP/1.1\" 200 34487\n",
      "127.0.0.1 - - [08/Oct/2017 09:32:13] \"GET /The%20West%20Wing/3.jpg HTTP/1.1\" 200 29337\n",
      "127.0.0.1 - - [08/Oct/2017 09:32:13] \"GET /Tintin/3.jpg HTTP/1.1\" 200 23456\n",
      "127.0.0.1 - - [08/Oct/2017 09:32:13] \"GET /Marvels%20Agent%20Carter/3.jpg HTTP/1.1\" 200 40589\n",
      "127.0.0.1 - - [08/Oct/2017 09:32:13] \"GET /And%20Then%20There%20Were%20None/3.jpg HTTP/1.1\" 200 51689\n",
      "127.0.0.1 - - [08/Oct/2017 09:32:13] \"GET /13%20Reasons%20Why/3.jpg HTTP/1.1\" 200 25300\n",
      "127.0.0.1 - - [08/Oct/2017 09:32:13] \"GET /Happy%20Endings/3.jpg HTTP/1.1\" 200 41683\n",
      "127.0.0.1 - - [08/Oct/2017 09:32:14] \"GET /Elementary/3.jpg HTTP/1.1\" 200 21529\n",
      "127.0.0.1 - - [08/Oct/2017 09:32:14] \"GET /Supergirl/3.jpg HTTP/1.1\" 200 26638\n",
      "127.0.0.1 - - [08/Oct/2017 09:32:14] \"GET /Last%20Week%20Tonight%20With%20John%20Oliver/3.jpg HTTP/1.1\" 200 25268\n",
      "127.0.0.1 - - [08/Oct/2017 09:32:14] \"GET /Marvels%20Jessica%20Jones/3.jpg HTTP/1.1\" 200 44804\n",
      "127.0.0.1 - - [08/Oct/2017 09:32:14] \"GET /Coupling/3.jpg HTTP/1.1\" 200 36930\n",
      "127.0.0.1 - - [08/Oct/2017 09:32:14] \"GET /The%20Last%20Man%20On%20Earth/3.jpg HTTP/1.1\" 200 40996\n",
      "127.0.0.1 - - [08/Oct/2017 09:32:14] \"GET /Marvels%20Luke%20Cage/3.jpg HTTP/1.1\" 200 47731\n",
      "127.0.0.1 - - [08/Oct/2017 09:32:14] \"GET /Marvels%20Daredevil/3.jpg HTTP/1.1\" 200 42436\n",
      "127.0.0.1 - - [08/Oct/2017 09:32:14] \"GET /Homeland/3.jpg HTTP/1.1\" 200 43588\n",
      "127.0.0.1 - - [08/Oct/2017 09:32:14] \"GET /Gitanjali/3.jpg HTTP/1.1\" 200 26418\n",
      "127.0.0.1 - - [08/Oct/2017 09:32:14] \"GET /Death%20Note/3.jpg HTTP/1.1\" 200 28266\n",
      "127.0.0.1 - - [08/Oct/2017 09:32:14] \"GET /The%20IT%20Crowd/3.jpg HTTP/1.1\" 200 17391\n",
      "127.0.0.1 - - [08/Oct/2017 09:32:14] \"GET /Shrimaan%20Shrimati/3.jpg HTTP/1.1\" 200 32166\n",
      "127.0.0.1 - - [08/Oct/2017 09:32:14] \"GET /Designated%20Survivor/3.jpg HTTP/1.1\" 200 67193\n",
      "127.0.0.1 - - [08/Oct/2017 09:32:14] \"GET /Stranger%20Things/3.jpg HTTP/1.1\" 200 41639\n",
      "127.0.0.1 - - [08/Oct/2017 09:32:15] \"GET /Game%20Of%20Thrones/3.jpg HTTP/1.1\" 200 32255\n",
      "127.0.0.1 - - [08/Oct/2017 09:32:15] \"GET /Tom%20And%20Jerry/3.jpg HTTP/1.1\" 200 49839\n",
      "127.0.0.1 - - [08/Oct/2017 09:32:15] \"GET /Arrow/3.jpg HTTP/1.1\" 200 41969\n",
      "127.0.0.1 - - [08/Oct/2017 09:32:15] \"GET /Firefly/3.jpg HTTP/1.1\" 200 47011\n",
      "127.0.0.1 - - [08/Oct/2017 09:32:15] \"GET /Monk/3.jpg HTTP/1.1\" 200 40127\n",
      "127.0.0.1 - - [08/Oct/2017 09:32:15] \"GET /Modern%20Family/3.jpg HTTP/1.1\" 200 42733\n",
      "127.0.0.1 - - [08/Oct/2017 09:32:15] \"GET /Samurai%20X/3.jpg HTTP/1.1\" 200 28280\n",
      "127.0.0.1 - - [08/Oct/2017 09:32:15] \"GET /Breaking%20Bad/3.jpg HTTP/1.1\" 200 52607\n",
      "127.0.0.1 - - [08/Oct/2017 09:32:15] \"GET /Seinfeld/3.jpg HTTP/1.1\" 200 54403\n",
      "127.0.0.1 - - [08/Oct/2017 09:32:15] \"GET /Special%20Squad/3.jpg HTTP/1.1\" 200 37122\n",
      "127.0.0.1 - - [08/Oct/2017 09:32:15] \"GET /The%20Big%20Bang%20Theory/3.jpg HTTP/1.1\" 200 31305\n",
      "127.0.0.1 - - [08/Oct/2017 09:32:15] \"GET /body.png HTTP/1.1\" 200 523310\n",
      "127.0.0.1 - - [08/Oct/2017 09:32:16] \"GET /logo_tv.png HTTP/1.1\" 200 411332\n"
     ]
    }
   ],
   "source": [
    "run(host='localhost', port=8050)"
   ]
  }
 ],
 "metadata": {
  "kernelspec": {
   "display_name": "Python 2",
   "language": "python",
   "name": "python2"
  },
  "language_info": {
   "codemirror_mode": {
    "name": "ipython",
    "version": 2
   },
   "file_extension": ".py",
   "mimetype": "text/x-python",
   "name": "python",
   "nbconvert_exporter": "python",
   "pygments_lexer": "ipython2",
   "version": "2.7.13"
  }
 },
 "nbformat": 4,
 "nbformat_minor": 2
}
