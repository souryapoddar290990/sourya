{
 "cells": [
  {
   "cell_type": "code",
   "execution_count": null,
   "metadata": {
    "collapsed": true
   },
   "outputs": [],
   "source": [
    "import facebook,os,sys,urllib2,json,pprint,omdb,requests,time,datetime,xlwt,MySQLdb,csv,glob,enzyme,subprocess,re,webbrowser\n",
    "import numpy as np\n",
    "import matplotlib.pyplot as plt\n",
    "from bs4 import BeautifulSoup\n",
    "import smtplib\n",
    "# import pyscreenshot as ImageGrab\n",
    "from email.MIMEMultipart import MIMEMultipart\n",
    "from email.MIMEText import MIMEText\n",
    "from email.MIMEBase import MIMEBase\n",
    "from email import encoders\n",
    "from PIL import Image,ImageGrab\n",
    "from collections import Counter\n",
    "from iplotter import C3Plotter,ChartsJSPlotter"
   ]
  },
  {
   "cell_type": "code",
   "execution_count": null,
   "metadata": {
    "collapsed": true
   },
   "outputs": [],
   "source": [
    "db=MySQLdb.connect(host=\"localhost\",port=3306,user=\"root\",passwd=\"290990\",db=\"tv\")\n",
    "cursor = db.cursor()"
   ]
  },
  {
   "cell_type": "code",
   "execution_count": null,
   "metadata": {
    "collapsed": true
   },
   "outputs": [],
   "source": [
    "def convert_t1_json():\n",
    "    json_table1 = {}\n",
    "    query = \"select serial,MAX(season) from t1 group by serial\"\n",
    "    cursor.execute(query)\n",
    "    data = cursor.fetchall()\n",
    "    for it in data:\n",
    "        season = {}\n",
    "        for it1 in range(it[1]):\n",
    "            season[str(it1+1)] = {}\n",
    "        json_table1[str(it[0])] = season\n",
    "\n",
    "    query = \"select * from t1\"\n",
    "    cursor.execute(query)\n",
    "    data = cursor.fetchall()\n",
    "    for it in data:\n",
    "        try:\n",
    "            json_table1[str(it[0])][str(it[2])][str(it[3])] = {'name':it[1],'seena':it[4],'seens':it[5],'sub':it[6],'day':int(it[7]),'month':int(it[8]),'year':int(it[9]),'summary':it[10],'pics':it[11],'ppt':it[12],'rating':it[13]}\n",
    "        except:\n",
    "            pass\n",
    "    return json_table1\n",
    "\n",
    "# pprint.pprint(convert_t1_json())"
   ]
  },
  {
   "cell_type": "code",
   "execution_count": null,
   "metadata": {
    "collapsed": true
   },
   "outputs": [],
   "source": [
    "def convert_t2_json():\n",
    "    json_table2 = {}\n",
    "    query = \"select * from t2\"\n",
    "    cursor.execute(query)\n",
    "    data = cursor.fetchall()\n",
    "    for it in data:\n",
    "        json_table2[it[0]] = {'time':int(it[1]),'status':it[2],'genre':it[3],'network':it[4],'theme':it[5],'runtime':int(it[6]),'tvdb_id':int(it[7])}\n",
    "    return json_table2"
   ]
  },
  {
   "cell_type": "code",
   "execution_count": null,
   "metadata": {
    "collapsed": true
   },
   "outputs": [],
   "source": [
    "# maxm,sea,epi,ser,name = 0,0,0,0,\"\"\n",
    "# for item in data:\n",
    "#     if len(item[3]) > maxm: maxm,sea,epi,ser,name = len(item[3]),item[1],item[2],item[0],item[3]\n",
    "#     text = item[2].replace(\"This episode demonstrates the production processes for \",\"\").replace(\", \",\"/\").replace(\" and \",\"/\").replace(\".\",\"\")\n",
    "#     print str(item[0])+\".\"+str(item[1])+\"/\"+text\n",
    "# print maxm,sea,epi,ser,name\n",
    "foldername = \"H:/ARYA SOURYA/TELEVISION/\""
   ]
  },
  {
   "cell_type": "code",
   "execution_count": null,
   "metadata": {
    "collapsed": true
   },
   "outputs": [],
   "source": [
    "def get_immediate_subfolders(folder_name):\n",
    "    paths = glob.glob(folder_name+'/*')\n",
    "    # for path in paths:\n",
    "        # print path\n",
    "    return paths"
   ]
  },
  {
   "cell_type": "code",
   "execution_count": null,
   "metadata": {
    "collapsed": true
   },
   "outputs": [],
   "source": [
    "def get_all_subfolders(folder_name):\n",
    "    for path, subdirs, files in os.walk(folder_name):\n",
    "        print subdirs"
   ]
  },
  {
   "cell_type": "code",
   "execution_count": null,
   "metadata": {
    "collapsed": true
   },
   "outputs": [],
   "source": [
    "def get_count_total_runtime(foldername):\n",
    "    count = 0\n",
    "    temp = []\n",
    "    for path, subdirs, files in os.walk(foldername):\n",
    "        for filename in files:\n",
    "            print filename\n",
    "            try:\n",
    "                f = os.path.join(path, filename)\n",
    "                if f.endswith(\".mkv\"): \n",
    "                    with open(f,'rb') as ff:\n",
    "                        count += 1\n",
    "                        details = enzyme.MKV(ff)\n",
    "                        temp.append(details.info.duration)\n",
    "            except: print \"ERROR\",filename\n",
    "    return count,sum(temp,datetime.timedelta())"
   ]
  },
  {
   "cell_type": "code",
   "execution_count": null,
   "metadata": {
    "collapsed": true
   },
   "outputs": [],
   "source": [
    "def get_all_type_files(foldername,filetype):\n",
    "    temp = []\n",
    "    for path, subdirs, files in os.walk(foldername):\n",
    "        for filename in files:\n",
    "            try:\n",
    "                f = os.path.join(path, filename)\n",
    "                if f.endswith(filetype): temp.append(f)\n",
    "            except: print \"ERROR\",filename\n",
    "    return temp"
   ]
  },
  {
   "cell_type": "code",
   "execution_count": null,
   "metadata": {
    "collapsed": true
   },
   "outputs": [],
   "source": [
    "def get_all_mp3_files(foldername):\n",
    "    temp = []\n",
    "    for path, subdirs, files in os.walk(foldername):\n",
    "        for filename in files:\n",
    "            try:\n",
    "                f = os.path.join(path, filename)\n",
    "                if f.endswith(\".mp3\"): \n",
    "                    temp.append(f)\n",
    "            except: print \"ERROR\",filename\n",
    "    return temp"
   ]
  },
  {
   "cell_type": "code",
   "execution_count": null,
   "metadata": {
    "collapsed": true
   },
   "outputs": [],
   "source": [
    "def check_chapters(filename):\n",
    "    command = \"mkvmerge --ui-language en --identify-verbose \"\n",
    "    data = subprocess.check_output(command+'\"'+filename+'\"')\n",
    "    if \"Chapters\" in data : return \"YES\"\n",
    "    else: return \"NO\""
   ]
  },
  {
   "cell_type": "code",
   "execution_count": null,
   "metadata": {
    "collapsed": true
   },
   "outputs": [],
   "source": [
    "def check_corrupt(filename):\n",
    "    try:\n",
    "        with open(filename,'rb') as ff:\n",
    "            details = enzyme.MKV(ff)\n",
    "            if details.info.duration: return \"NO\"\n",
    "    except: return \"YES\""
   ]
  },
  {
   "cell_type": "code",
   "execution_count": null,
   "metadata": {
    "collapsed": true
   },
   "outputs": [],
   "source": [
    "def get_duration(filename):\n",
    "    with open(filename,'rb') as ff:\n",
    "        details = enzyme.MKV(ff)\n",
    "        return details.info.duration"
   ]
  },
  {
   "cell_type": "code",
   "execution_count": null,
   "metadata": {
    "collapsed": true
   },
   "outputs": [],
   "source": [
    "def get_folder_duration(foldername,filetype):\n",
    "    runtime = []\n",
    "    for item in get_all_type_files(foldername,filetype): runtime.append(get_duration(item))\n",
    "    return sum(runtime,datetime.timedelta()),len(runtime)"
   ]
  },
  {
   "cell_type": "code",
   "execution_count": null,
   "metadata": {
    "collapsed": true
   },
   "outputs": [],
   "source": [
    "def get_video_audio_details(filename):\n",
    "    with open(filename,'rb') as ff:\n",
    "        details = enzyme.MKV(ff)\n",
    "        video = details.video_tracks[0]\n",
    "        audio = details.audio_tracks[0]\n",
    "        return video.height,video.width,video.codec_id,audio.sampling_frequency,audio.codec_id,details.info.duration"
   ]
  },
  {
   "cell_type": "code",
   "execution_count": null,
   "metadata": {
    "collapsed": true
   },
   "outputs": [],
   "source": [
    "def check_capital(name):\n",
    "    count = []\n",
    "    title = re.compile('[^a-zA-Z0-9 ]').sub('',name)\n",
    "    title = re.sub(' +',' ',title)\n",
    "    # print title.split(\" \")\n",
    "    for item in title.split(\" \"):\n",
    "        if len(item) > 0:\n",
    "            if item[0].isdigit() == False and item[0] != \"\":\n",
    "                if item[0].isupper(): count.append(1)\n",
    "                else: count.append(0)\n",
    "    # print count\n",
    "    if len(count) == sum(count): return 1\n",
    "    else: return 0"
   ]
  },
  {
   "cell_type": "code",
   "execution_count": null,
   "metadata": {
    "collapsed": true
   },
   "outputs": [],
   "source": [
    "def check_filename(filename,cursor):\n",
    "    try:\n",
    "        item = filename.replace(\"\\\\\",\"/\").replace(foldername,\"\").replace(\".mkv\",\"\").replace(\"/\",\"?\").split(\"?\")\n",
    "        # print item\n",
    "        serial = item[0]\n",
    "        season = item[1].replace(\"SEASON \",\"\")\n",
    "        episode_name = item[2].split(\" - \")\n",
    "        if episode_name[0].isdigit(): \n",
    "            episode = int(episode_name[0])\n",
    "            name = episode_name[1]\n",
    "            # print serial,season,episode,name\n",
    "            query = 'select episode,name from t1 where serial=\"'+serial+'\" and season=\"'+season+'\" and episode=\"'+str(episode)+'\"'\n",
    "            cursor.execute(query)\n",
    "            data = cursor.fetchall()\n",
    "            if len(data) != 1: print \"UNAVAILABLE\",filename,len(data)\n",
    "            else:\n",
    "                if check_capital(data[0][1]) == 0: print \"DECAPITALIZED\",filename\n",
    "                text = \"\"\n",
    "                if int(data[0][0])<10: text += \"0\"+str(data[0][0])+\" - \"+data[0][1]\n",
    "                else: text += str(data[0][0])+\" - \"+data[0][1]\n",
    "                if text != item[2]: print \"MISMATCH\",filename,text,item[2]\n",
    "                return 1\n",
    "        else: \n",
    "            b = episode_name[0].split(\"-\")\n",
    "            query = 'select episode,name from t1 where serial=\"'+serial+'\" and season=\"'+season+'\" and episode in ('+str(int(b[0]))+','+str(int(b[1]))+')'\n",
    "            cursor.execute(query)\n",
    "            data = cursor.fetchall()\n",
    "            if len(data) != 2: print \"UNAVAILABLE\",filename,len(data)\n",
    "            else:\n",
    "                if data[0][1].replace(\" - 1\",\"\") == data[1][1].replace(\" - 2\",\"\"): name = data[1][1].replace(\" - 2\",\"\")\n",
    "                else: name = data[0][1]+\"-\"+data[1][1]\n",
    "                if check_capital(name) == 0: print \"DECAPITALIZED\",filename\n",
    "                text = \"\"\n",
    "                text += b[0]+\"-\"+b[1]+\" - \"+name\n",
    "                if text != item[2]: print \"MISMATCH\",filename,text,item[2]\n",
    "                return 2\n",
    "\n",
    "    except Exception,e: print \"UNCONVENTIONAL\",filename,e"
   ]
  },
  {
   "cell_type": "code",
   "execution_count": null,
   "metadata": {
    "collapsed": true
   },
   "outputs": [],
   "source": [
    "def get_size(filename):\n",
    "    stats = os.stat(filename) \n",
    "    return stats.st_size"
   ]
  },
  {
   "cell_type": "code",
   "execution_count": null,
   "metadata": {
    "collapsed": true
   },
   "outputs": [],
   "source": [
    "def check_him_present():\n",
    "    temp = get_all_type_files(foldername+\"HOW ITS MADE/\",\".mkv\")\n",
    "    duration = []\n",
    "    number = 0\n",
    "    for item in temp:\n",
    "        item_new = item.replace(foldername+\"HOW ITS MADE/\",\"\").split(\"\\\\\")[2].replace(\".mkv\",\"\")\n",
    "        if check_capital(item_new) == 0: print \"DECAPITALIZED FILENAME\",item_new\n",
    "        # print item\n",
    "        corrupt = check_corrupt(item)\n",
    "        if corrupt == \"YES\": print \"CORRUPTED FILE\",item\n",
    "        else:\n",
    "            number += 1\n",
    "            runtime = get_duration(item)\n",
    "            height,width,video_codec,frequency,audio_codec,runtime = get_video_audio_details(item)\n",
    "            if video_codec != \"V_MPEGH/ISO/HEVC\": print \"VIDEO CODEC\",item\n",
    "            if audio_codec != \"A_AAC\": print \"AUDIO CODEC\",item\t\n",
    "            duration.append(runtime)\n",
    "            chapter = check_chapters(item)\n",
    "            if chapter == \"YES\": print \"CHAPTER PRESENT\",item_new\n",
    "\n",
    "    query = 'select season,episode,name,summary from t1 where serial=\"How Its Made\"'\n",
    "    cursor.execute(query)\n",
    "    data = cursor.fetchall()\n",
    "    serial = \"How Its Made\"\n",
    "    len_data = 0\n",
    "    for item in data:\n",
    "        season,episode,name,summary = item[0],item[1],item[2],item[3]\n",
    "        remove = \"This episode demonstrates the production processes for \"\n",
    "        for vid in summary.replace(remove,\"\").replace(\" and\",\",\").replace(\".\",\"\").split(\", \"):\n",
    "            if len(vid) == 0: print \"MISSING SUMMARY ENTRY\",season,episode\n",
    "            else:\n",
    "                len_data += 1\n",
    "                filename = foldername+\"HOW ITS MADE/SEASON \"+str(season)+\"/\"+name+\"/\"+vid+\".mkv\"\n",
    "                if os.path.isfile(filename) == False: print \"NO FILE\",filename\n",
    "                if check_capital(vid) == 0: print \"DECAPITALIZED SUMMARY\",filename\n",
    "    if len(temp) != len_data: print \"COUNT MISMATCH\"\n",
    "    print foldername[:len(foldername)-1]+\"\\HOW ITS MADE DURATION\",str(sum(duration,datetime.timedelta())),\"COUNT\",str(number)\n",
    "    print \"#####################################################################################\""
   ]
  },
  {
   "cell_type": "code",
   "execution_count": null,
   "metadata": {
    "collapsed": true
   },
   "outputs": [],
   "source": [
    "def health_report(foldername,cursor):\n",
    "    serial_folders = get_immediate_subfolders(foldername)\n",
    "    for serial in serial_folders:\n",
    "        if \"HOW ITS MADE\" in serial:\n",
    "            check_him_present()\n",
    "            continue\n",
    "        if \"OTHERS\" in serial: continue\n",
    "        episodes = get_all_type_files(serial,\".mkv\")\n",
    "        duration = []\n",
    "        number = 0\n",
    "        query = 'select count(*) from t1 where serial=\"'+serial.replace(foldername[:len(foldername)-1]+\"\\\\\",\"\")+'\"'\n",
    "        cursor.execute(query)\n",
    "        data_count = cursor.fetchone()\n",
    "        for episode in episodes:\n",
    "            corrupt = check_corrupt(episode)\n",
    "            if corrupt == \"YES\": print \"CORRUPTED FILE\",episode\n",
    "            else:\n",
    "                if \"SEASON\" in episode:\n",
    "                    number += check_filename(episode,cursor)\n",
    "                    height,width,video_codec,frequency,audio_codec,runtime = get_video_audio_details(episode)\n",
    "                    # print width,episode\n",
    "                    if video_codec != \"V_MPEGH/ISO/HEVC\": print \"VIDEO CODEC\",episode\n",
    "                    if audio_codec != \"A_AAC\": print \"AUDIO CODEC\",episode\n",
    "                    duration.append(runtime)\n",
    "                chapter = check_chapters(episode)\n",
    "                if chapter == \"YES\": print \"CHAPTER PRESENT\",episode\n",
    "                # print episode,\"TIME\",runtime,\"CHAPTER\",chapter\n",
    "        if int(data_count[0]) != number: print \"COUNT MISMATCH\"\n",
    "        print serial,\"DURATION\",str(sum(duration,datetime.timedelta())),\"COUNT\",str(number)\n",
    "        print \"#####################################################################################\"\n",
    "\n",
    "health_report(foldername,cursor)"
   ]
  },
  {
   "cell_type": "code",
   "execution_count": null,
   "metadata": {
    "collapsed": true
   },
   "outputs": [],
   "source": [
    "def check_image_size(filename):\n",
    "    im = Image.open(filename)\n",
    "    width, height = im.size\n",
    "    return width,height"
   ]
  },
  {
   "cell_type": "code",
   "execution_count": null,
   "metadata": {
    "collapsed": true
   },
   "outputs": [],
   "source": [
    "def check_images_present(foldername):\n",
    "    query = 'select serial,season,episode from t1'\n",
    "    cursor.execute(query)\n",
    "    data = cursor.fetchall()\n",
    "    temp = {\"a\":[],\"b\":[]}\n",
    "    for item in data:\n",
    "        if int(item[2])<10: filename = \"0\"+str(item[2])+\".png\"\n",
    "        else: filename = str(item[2])+\".png\"\n",
    "        location = foldername+\"/\"+item[0]+\"/\"+str(item[1])+\"/\"+filename\n",
    "        if os.path.isfile(location) == False: print \"NO PICS\",location\n",
    "        else:\n",
    "        a,b = check_image_size(location)\n",
    "            temp[\"a\"].append(a)\n",
    "            temp[\"b\"].append(b)\n",
    "    # print Counter(temp[\"a\"])\n",
    "    # print Counter(temp[\"b\"])\n",
    "    return 0\n",
    "\n",
    "# check_images_present(\"D:/tc\\static\\img\")"
   ]
  },
  {
   "cell_type": "code",
   "execution_count": null,
   "metadata": {
    "collapsed": true
   },
   "outputs": [],
   "source": [
    "def check_db_filename_summary():\n",
    "    query = 'select serial,season,episode,name,summary from t1'\n",
    "    cursor.execute(query)\n",
    "    data = cursor.fetchall()\n",
    "    for item in data:\n",
    "        if check_capital(item[3]) == 0: print item\n",
    "        if item[4].endswith(\"\\n\"): print item[:3]\n",
    "        print item[1],item[2],item[4]\n",
    "        # time.sleep(1)\n",
    "\n",
    "# check_db_filename_summary()"
   ]
  },
  {
   "cell_type": "code",
   "execution_count": null,
   "metadata": {
    "collapsed": true
   },
   "outputs": [],
   "source": [
    "# urlnew = urllib2.urlopen(url)\n",
    "# content = urlnew.read()\n",
    "# print content\n",
    "\n",
    "# data = get_all_type_files(\"E:\\New folder/tv\\sam x\\SEASON 1\",\".mkv\")\n",
    "# for item in data:\n",
    "#     print get_video_audio_details(item)[0],float(get_video_audio_details(item)[1]),item"
   ]
  },
  {
   "cell_type": "code",
   "execution_count": null,
   "metadata": {
    "collapsed": true
   },
   "outputs": [],
   "source": [
    "def take_screenshot(filename,fname):\n",
    "    webbrowser.open(filename+'.html')\n",
    "    time.sleep(1)\n",
    "    im=ImageGrab.grab(bbox=(433,272,933,552))\n",
    "    im.save(fname+'.png')\n",
    "\n",
    "# take_screenshot('1-1')"
   ]
  },
  {
   "cell_type": "code",
   "execution_count": null,
   "metadata": {
    "collapsed": true
   },
   "outputs": [],
   "source": [
    "def generate_him_images():\n",
    "    query = 'select season,episode,name,summary from t1 where serial=\"How Its Made\" and season=19'\n",
    "    cursor.execute(query)\n",
    "    data = cursor.fetchall()\n",
    "    maxm,epi,sea = 0,0,0\n",
    "    for item in data:\n",
    "        filename = str(item[0])+\"-\"+str(item[1])\n",
    "        if int(item[1]) < 10: fname = str(item[0])+\"/\"+\"0\"+str(item[1])\n",
    "        else: fname = str(item[0])+\"/\"+str(item[1])\n",
    "        f = open(filename+\".html\",\"w\")\n",
    "        msg = ''\n",
    "        summary = item[3]\n",
    "        summary = summary.replace(\"This episode demonstrates the production processes for \",\"\").replace(\" and\",\",\").replace(\".\",\"\").split(\", \")\n",
    "        # print item[0],item[1],item[2],len(summary)\n",
    "        if len(summary) == 4: a,b,c,d = summary[0],summary[1],summary[2],summary[3]\n",
    "        else: a,b,c,d = summary[0],summary[1],summary[2],\"\"\n",
    "        # print len(a),len(b),len(c),len(d)\n",
    "        # if len(a)>maxm: maxm,epi,sea = len(a),item[1],item[0]\n",
    "        # if len(b)>maxm: maxm,epi,sea = len(b),item[1],item[0]\n",
    "        # if len(c)>maxm: maxm,epi,sea = len(c),item[1],item[0]\n",
    "        # if len(d)>maxm: maxm,epi,sea = len(d),item[1],item[0]\n",
    "        # print maxm,sea,epi\n",
    "        msg += '<html><head><style>body { background-image: url(\"him_sample_black.png\");background-color:red;background-repeat: no-repeat;background-attachment: fixed;background-position: center; } td#a{font-family:Segoe ui light;width:496px;height:70px;font-size:35px;text-align:center;color:white;}</style><body><table style=\"border-collapse:collapse;margin-top:186px;margin-left:425px;\">'\n",
    "        msg += '<tr><td id=\"a\">'+a+'</td></tr><tr><td id=\"a\">'+b+'</td></tr><tr><td id=\"a\">'+c+'</td></tr><tr><td id=\"a\">'+d+'</td></tr>'\n",
    "        msg += '</table></body></html>'\n",
    "\n",
    "        f.write(msg)\n",
    "        f.close()\n",
    "        take_screenshot(filename,fname)\n",
    "\n",
    "# generate_him_images()"
   ]
  },
  {
   "cell_type": "code",
   "execution_count": null,
   "metadata": {
    "collapsed": true
   },
   "outputs": [],
   "source": [
    "def get_tv_statistics():\n",
    "    query = 'select t2.genre,sum(t2.runtime) from t1 inner join t2 where t1.serial=t2.serial group by t2.genre'\n",
    "    cursor.execute(query)\n",
    "    result = cursor.fetchall()\n",
    "    columns = [['Misc',0]]\n",
    "    misc_list = ['Game','Musical','Science']\n",
    "    for item in result:\n",
    "        if item[0] in misc_list: columns[0][1] += item[1]\n",
    "        else: columns.append([item[0],item[1]])\n",
    "    return columns"
   ]
  },
  {
   "cell_type": "code",
   "execution_count": null,
   "metadata": {
    "collapsed": true
   },
   "outputs": [],
   "source": [
    "# columns = get_tv_statistics()\n",
    "\n",
    "def get_tv_seen_statistics(key,value):\n",
    "    query = 'select t2.genre,sum(t2.runtime) from t1 inner join t2 where (t1.serial=t2.serial and t1.'+key+' != \"'+value+'\") group by t2.genre'\n",
    "    cursor.execute(query)\n",
    "    result = cursor.fetchall()\n",
    "    columns = {'Misc':0}\n",
    "    misc_list = ['Game','Musical','Science']\n",
    "    for item in result:\n",
    "    if item[0] in misc_list: columns['Misc'] += item[1]\n",
    "        else: columns[item[0]] = item[1]\n",
    "    return columns"
   ]
  },
  {
   "cell_type": "code",
   "execution_count": null,
   "metadata": {
    "collapsed": true
   },
   "outputs": [],
   "source": [
    "# seena = get_tv_seen_statistics('seena','No')\n",
    "# seens = get_tv_seen_statistics('seens','No')\n",
    "# subs = get_tv_seen_statistics('sub','No')\n",
    "# pics = get_tv_seen_statistics('pics','N')"
   ]
  },
  {
   "cell_type": "code",
   "execution_count": null,
   "metadata": {
    "collapsed": true
   },
   "outputs": [],
   "source": [
    "def generate_donut_chart(columns,title):\n",
    "    plotter = C3Plotter()\n",
    "    chart = {\n",
    "        'data': {\n",
    "            'columns':columns,\n",
    "            'type' : 'donut',\n",
    "        },\n",
    "        'donut': {\n",
    "            'title': title\n",
    "        }\n",
    "    }\n",
    "    plotter.plot_and_save(chart)\n",
    "\n",
    "# generate_donut_chart(columns,\"Show Type Statistics\")"
   ]
  },
  {
   "cell_type": "code",
   "execution_count": null,
   "metadata": {
    "collapsed": true
   },
   "outputs": [],
   "source": [
    "def generate_radar_chart(labels,data1,data2):\n",
    "    plotter = ChartsJSPlotter()\n",
    "\n",
    "    data = {\n",
    "        \"labels\": labels,\n",
    "        \"datasets\": [\n",
    "            {\n",
    "                \"label\": \"Arya\",\n",
    "                \"fillColor\": \"rgba(255,122,122,0.2)\",\n",
    "                \"strokeColor\": \"rgba(255,122,122,1)\",\n",
    "                \"pointColor\": \"rgba(255,122,122,1)\",\n",
    "                \"pointStrokeColor\": \"#000\",\n",
    "                \"pointHighlightFill\": \"#fff\",\n",
    "                \"pointHighlightStroke\": \"rgba(255,122,122,1)\",\n",
    "                \"data\": data1\n",
    "            },\n",
    "            {\n",
    "                \"label\": \"Sourya\",\n",
    "                \"fillColor\": \"rgba(122,122,255,0.2)\",\n",
    "                \"strokeColor\": \"rgba(122,122,255,1)\",\n",
    "                \"pointColor\": \"rgba(122,122,255,1)\",\n",
    "                \"pointStrokeColor\": \"#000\",\n",
    "                \"pointHighlightFill\": \"#fff\",\n",
    "                \"pointHighlightStroke\": \"rgba(122,122,255,1)\",\n",
    "                \"data\": data2\n",
    "            }\n",
    "        ]\n",
    "    }\n",
    "\n",
    "    plotter.plot_and_save(data, chart_type=\"Radar\", w=500, h=500)"
   ]
  },
  {
   "cell_type": "code",
   "execution_count": null,
   "metadata": {
    "collapsed": true
   },
   "outputs": [],
   "source": [
    "def generate_radar_data(param1,param2,labels):\n",
    "    genres = [item[0] for item in labels]\n",
    "    total = [item[1] for item in labels]\n",
    "    data1,data2,data3 = [],[],[]\n",
    "    for index,genre in enumerate(genres):\n",
    "        try: data1.append(round(param1[genre]/total[index],2))\n",
    "        except: data1.append(1)\n",
    "        try: data2.append(round(param2[genre]/total[index],2))\n",
    "        except: data2.append(1)\t\n",
    "    generate_radar_chart(genres,data1,data2)"
   ]
  },
  {
   "cell_type": "code",
   "execution_count": null,
   "metadata": {
    "collapsed": true
   },
   "outputs": [],
   "source": [
    "# generate_radar_data(seena,seens,columns)\n",
    "# generate_radar_data(subs,pics,columns)\n",
    "# webbrowser.open('chart.html')"
   ]
  },
  {
   "cell_type": "code",
   "execution_count": null,
   "metadata": {
    "collapsed": true
   },
   "outputs": [],
   "source": [
    "def get_serial_rating(serial):\n",
    "    data0,data1,data2 = [],[],[]\n",
    "    query = 'select season,count(episode),ROUND(sum(rating)/count(episode),2) from t1 where serial = \"'+serial+'\" group by season'\n",
    "    cursor.execute(query)\n",
    "    result = cursor.fetchall()\n",
    "    for item in result:\n",
    "        data0.append(item[0])\n",
    "        data1.append(item[1])\n",
    "        data2.append(item[2])\n",
    "    generate_radar_chart(data0,data1,data2)\n",
    "    webbrowser.open('chart.html')\n",
    "\n",
    "# get_serial_rating('Sherlock')\n",
    "# generate_radar_chart(labels,data1,data2)\n",
    "# webbrowser.open('chart.html')"
   ]
  },
  {
   "cell_type": "code",
   "execution_count": null,
   "metadata": {
    "collapsed": true
   },
   "outputs": [],
   "source": [
    "# ADD RATINGS IN EPISODE PAGE\n",
    "# ADD STATISTICS PAGE => RUNTIME AND COUNT BASED ON GENRE/SEEN STATUS BASED ON GENRE/SUB AND PICS STATUS/SERIAL RATING STATUS/TOP RATED SERIAL\n",
    "# ADD FILTER BASED ON GENRE,RUNTIME "
   ]
  },
  {
   "cell_type": "code",
   "execution_count": null,
   "metadata": {
    "collapsed": true
   },
   "outputs": [],
   "source": [
    "# paths = \"C:/Users/DELL/Downloads/vidf_ucsd/ped1/train\"\n",
    "# for path, subdirs, files in os.walk(paths):\n",
    "#     for filename in files:\n",
    "#         try:\n",
    "#             f = os.path.join(path, filename)\n",
    "#             print path.replace(paths,\"\").replace(\"\\\\\",\"\")+\"/\"+filename\n",
    "#         except: print \"ERROR\",filename"
   ]
  },
  {
   "cell_type": "code",
   "execution_count": null,
   "metadata": {
    "collapsed": true
   },
   "outputs": [],
   "source": [
    "def compress_image(filename,output,reduction):\n",
    "    # print filename\n",
    "    im = Image.open(filename)\n",
    "    width, height = im.size\n",
    "    sp = im.resize((int(width*reduction),int(height*reduction)), Image.ANTIALIAS)\n",
    "    sp.save(output)"
   ]
  },
  {
   "cell_type": "code",
   "execution_count": null,
   "metadata": {
    "collapsed": true
   },
   "outputs": [],
   "source": [
    "# paths = \"C:/Users/DELL/AndroidStudioProjects/tvtest3/app/src/main/res/mipmap-hdpi/\"\n",
    "# for path, subdirs, files in os.walk(paths):\n",
    "#     for filename in files:\n",
    "#         f = os.path.join(path, filename)\n",
    "#         target_name = filename.split(\"/\")[10]\n",
    "#         compress_image(path+filename,target_name,0.5)"
   ]
  },
  {
   "cell_type": "code",
   "execution_count": null,
   "metadata": {
    "collapsed": true
   },
   "outputs": [],
   "source": [
    "# paths = \"D:/tc/static/img/How Its Made\"\n",
    "# count = 0\n",
    "# for path, subdirs, files in os.walk(paths):\n",
    "#     for filename in files:\n",
    "#         f = os.path.join(path, filename)\n",
    "#         if f.endswith(\".png\"): \n",
    "#             temp1 = path.replace(\"D:/tc/static/img/\",\"\").split(\"\\\\\")\n",
    "#             temp2 = filename.split(\".\")\n",
    "#             output = \"pic_him\"+\"_\"+temp1[1]+\"_\"+str(int(temp2[0]))+\".\"+temp2[1]\n",
    "#             # print path+\"/\"+filename\n",
    "#             compress_image(path+\"/\"+filename,output,1)\n",
    "#             count += 1\n",
    "# print count"
   ]
  },
  {
   "cell_type": "code",
   "execution_count": null,
   "metadata": {
    "collapsed": true
   },
   "outputs": [],
   "source": [
    "# import cv2,scipy\n",
    "# import matplotlib.image as img\n",
    "# out = cv2.VideoWriter(\"test.mkv\", cv2.VideoWriter_fourcc(*'MJPG'), 15, (240,160))\n",
    "# for path, subdirs, files in os.walk(\"t001\"):\n",
    "#     for filename in files:\n",
    "#         temp = \"t001/\"+filename\n",
    "#         camera = cv2.VideoCapture(temp)\n",
    "#         grab,frame = camera.read()\n",
    "#         out.write(frame)\n",
    "# out.release()"
   ]
  }
 ],
 "metadata": {
  "kernelspec": {
   "display_name": "Python 2",
   "language": "python",
   "name": "python2"
  },
  "language_info": {
   "codemirror_mode": {
    "name": "ipython",
    "version": 2
   },
   "file_extension": ".py",
   "mimetype": "text/x-python",
   "name": "python",
   "nbconvert_exporter": "python",
   "pygments_lexer": "ipython2",
   "version": "2.7.11"
  }
 },
 "nbformat": 4,
 "nbformat_minor": 0
}
