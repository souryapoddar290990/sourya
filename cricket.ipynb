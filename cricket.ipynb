{
 "cells": [
  {
   "cell_type": "code",
   "execution_count": 8,
   "metadata": {
    "collapsed": false
   },
   "outputs": [],
   "source": [
    "from bs4 import BeautifulSoup\n",
    "import smtplib\n",
    "from email.MIMEMultipart import MIMEMultipart\n",
    "from email.MIMEText import MIMEText\n",
    "from email.MIMEBase import MIMEBase\n",
    "from email import encoders\n",
    "import os,sys,urllib2,json,pprint,requests,time,datetime\n",
    "import numpy as np"
   ]
  },
  {
   "cell_type": "code",
   "execution_count": 147,
   "metadata": {
    "collapsed": false
   },
   "outputs": [],
   "source": [
    "def cricket_mail():\n",
    "    url = \"http://www.espncricinfo.com/ci/engine/match/index.html\"\n",
    "    data = BeautifulSoup(requests.get(url).text)\n",
    "    search_link = data.findAll('a',href=True,text='Live scorecard')\n",
    "    search_status = data.select('.match-status')\n",
    "    search_tournament = data.select('.match-section-head')\n",
    "    search_team1 = data.select('.innings-info-1')\n",
    "    search_team2 = data.select('.innings-info-2')\n",
    "    msg = '<html><body><table style=\"font-family:Segoe UI;border:1px solid black\"><tr><td>TOURNAMENT</td><td>TEAM 1</td><td>TEAM 2</td><td>MATCH STATUS</td><td>LINK</td></tr>'\n",
    "    for item,link in enumerate(search_link):\n",
    "        try:\n",
    "            match_status = search_status[item].findAll(text=True)[1].strip()\n",
    "            team_1 = search_team1[item].findAll(text=True)[0].strip().replace('-',' ')\n",
    "            team_2 = search_team2[item].findAll(text=True)[0].strip().replace('-',' ')\n",
    "            tournament = link['href'].split('/')[-2].replace('-vs-','').replace('-',' ').replace(team_1,'').replace(team_2,'').strip().title()\n",
    "            for tour in search_tournament:\n",
    "                if tour.findAll(text=True)[0].strip().title() in tournament: tournament = tour.findAll(text=True)[0].strip().title()\n",
    "            msg += '<tr><td>'+tournament+'</td><td>'+team_1+'</td><td>'+team_2+'</td><td>'+match_status+'</td><td><a href=\"'+link['href']+'\">cricinfo</a></td></tr>'\n",
    "        except Exception, e: print e\n",
    "    msg += '</table></body></html>'\n",
    "    return msg"
   ]
  },
  {
   "cell_type": "code",
   "execution_count": 150,
   "metadata": {
    "collapsed": false
   },
   "outputs": [],
   "source": [
    "def send_mail():\n",
    "    fromaddr = 'souryapoddar290990@gmail.com'\n",
    "    toaddr = [\"souryapoddar290990@gmail.com\"]\n",
    "    password = \"sourya1000\"\n",
    "    subject = \"CRICKET UPDATE\"\n",
    "    body = cricket_mail()\n",
    "    # print body\n",
    "    msg = MIMEMultipart()\n",
    "    msg['From'] = fromaddr\n",
    "    msg['To'] = \",\".join(toaddr)\n",
    "    msg['Subject'] = subject\n",
    "    msg.attach(MIMEText(body, 'html'))\n",
    "    server = smtplib.SMTP('smtp.gmail.com', 587)\n",
    "    server.starttls()\n",
    "    server.login(fromaddr,password)\n",
    "    text = msg.as_string()\n",
    "    server.sendmail(fromaddr, toaddr, text)\n",
    "    server.quit()\n",
    "\n",
    "send_mail()"
   ]
  },
  {
   "cell_type": "code",
   "execution_count": null,
   "metadata": {
    "collapsed": true
   },
   "outputs": [],
   "source": [
    "def send_push():\n",
    "    from pushbullet import Pushbullet\n",
    "    API_KEY = 'o.nYHrQiyqBr2NTj59HaQFSSGsgoLDYQrv'\n",
    "    # API_KEY = 'o.gmWPEjdjJvbZRqnTvCc7sHkonggCW48I'\n",
    "    pb = Pushbullet(API_KEY)\n",
    "    url = \"http://www.espncricinfo.com/ci/engine/match/index.html\"\n",
    "    data = BeautifulSoup(requests.get(url).text)\n",
    "    search_list = data.findAll('a',href=True,text='Live scorecard')\n",
    "    for item in search_list:\n",
    "        link = \"http://www.espncricinfo.com\"+item['href']\n",
    "        data = BeautifulSoup(requests.get(link).text).select('.match-information-strip')[0].findAll(text=True)[0].strip().split(\"\\n\")\n",
    "        tournament = data[0].replace(\",\",\"\")\n",
    "        team_1 = BeautifulSoup(requests.get(link).text).select('.team-1-name')[0].findAll(text=True)[0].strip()\n",
    "        team_2 = BeautifulSoup(requests.get(link).text).select('.team-2-name')[0].findAll(text=True)[0].strip()\n",
    "        match_status = BeautifulSoup(requests.get(link).text).select('.innings-requirement')[0].findAll(text=True)[0].strip()\n",
    "        title = \"Cricket\"\n",
    "        text = team_1+\" vs \"+team_2+\"\\n\"+match_status\n",
    "        push = pb.push_note(title,text)\n",
    "\n",
    "# send_push()"
   ]
  }
 ],
 "metadata": {
  "kernelspec": {
   "display_name": "Python 2",
   "language": "python",
   "name": "python2"
  },
  "language_info": {
   "codemirror_mode": {
    "name": "ipython",
    "version": 2
   },
   "file_extension": ".py",
   "mimetype": "text/x-python",
   "name": "python",
   "nbconvert_exporter": "python",
   "pygments_lexer": "ipython2",
   "version": "2.7.11"
  }
 },
 "nbformat": 4,
 "nbformat_minor": 0
}
