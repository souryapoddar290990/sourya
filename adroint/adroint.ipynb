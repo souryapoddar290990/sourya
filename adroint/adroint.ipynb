{
 "cells": [
  {
   "cell_type": "code",
   "execution_count": 64,
   "metadata": {
    "collapsed": false
   },
   "outputs": [],
   "source": [
    "# !pip install unidecode"
   ]
  },
  {
   "cell_type": "code",
   "execution_count": 76,
   "metadata": {
    "collapsed": true
   },
   "outputs": [],
   "source": [
    "import wikipedia,csv,os,sys\n",
    "from unidecode import unidecode"
   ]
  },
  {
   "cell_type": "code",
   "execution_count": 62,
   "metadata": {
    "collapsed": false
   },
   "outputs": [],
   "source": [
    "# link = \"List_of_city_name_changes\"\n",
    "# master_data = wikipedia.page(link)"
   ]
  },
  {
   "cell_type": "code",
   "execution_count": 63,
   "metadata": {
    "collapsed": false
   },
   "outputs": [],
   "source": [
    "# writer = csv.writer(open('city_name_change.txt','w'),delimiter='|',lineterminator='\\n')\n",
    "# data = master_data.content.split('\\n')\n",
    "# country = ''\n",
    "# for item in data:\n",
    "#     if '==' in item: \n",
    "#         country = item.replace(\"== \",'').replace(\" ==\",'')\n",
    "#         continue\n",
    "#     if '→' in item:\n",
    "#         item = item.replace('=','→')\n",
    "#         temp = [unidecode(it.strip()) for it in item.split('→')]\n",
    "#         writer.writerow([country]+temp)\n",
    "# writer = csv.writer(open('write_filename.txt','wb'),delimiter='|')"
   ]
  },
  {
   "cell_type": "code",
   "execution_count": 97,
   "metadata": {
    "collapsed": false
   },
   "outputs": [],
   "source": [
    "# mypath = 'C:/Users/sourya.poddar/Downloads/Personal/adroint/data/CITYDATA/'\n",
    "# onlyfiles = [f for f in os.listdir(mypath) if os.path.isfile(os.path.join(mypath, f))]\n",
    "# writer = csv.writer(open(mypath+'city_data.csv','w'),delimiter='|',lineterminator='\\n')\n",
    "# for files in onlyfiles:\n",
    "#     with open(mypath+files,encoding='latin1') as f:\n",
    "#         print(files)\n",
    "#         lines = f.readlines()\n",
    "#         for line in lines:\n",
    "#             item = [unidecode(it) for it in line.split('\\t')]\n",
    "#             writer.writerow(item[0:6]+[item[8],item[17]])\n",
    "# writer = csv.writer(open('write_filename.txt','wb'),delimiter='|')"
   ]
  },
  {
   "cell_type": "code",
   "execution_count": null,
   "metadata": {
    "collapsed": true
   },
   "outputs": [],
   "source": []
  }
 ],
 "metadata": {
  "kernelspec": {
   "display_name": "Python 3",
   "language": "python",
   "name": "python3"
  },
  "language_info": {
   "codemirror_mode": {
    "name": "ipython",
    "version": 3
   },
   "file_extension": ".py",
   "mimetype": "text/x-python",
   "name": "python",
   "nbconvert_exporter": "python",
   "pygments_lexer": "ipython3",
   "version": "3.5.1"
  }
 },
 "nbformat": 4,
 "nbformat_minor": 0
}
