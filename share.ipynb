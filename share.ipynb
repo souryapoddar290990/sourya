{
 "cells": [
  {
   "cell_type": "code",
   "execution_count": 17,
   "metadata": {
    "collapsed": false
   },
   "outputs": [],
   "source": [
    "import facebook,os,sys,urllib2,json,pprint,omdb,requests,time,datetime\n",
    "import numpy as np\n",
    "from nsetools import Nse\n",
    "from yahoo_finance import Share\n",
    "import pandas as pd\n",
    "import datetime as dt\n",
    "import matplotlib.pyplot as plt\n",
    "import smtplib\n",
    "from email.MIMEMultipart import MIMEMultipart\n",
    "from email.MIMEText import MIMEText\n",
    "from email.MIMEBase import MIMEBase\n",
    "from email import encoders"
   ]
  },
  {
   "cell_type": "code",
   "execution_count": 7,
   "metadata": {
    "collapsed": true
   },
   "outputs": [],
   "source": [
    "# count = 0\n",
    "# while(1):\n",
    "#     count += 1\n",
    "#     nse = Nse()\n",
    "#     # print nse\n",
    "#     q = nse.get_quote('SBIN')\n",
    "#     print count,q\n",
    "#     time.sleep(15)\n",
    "# nifty_quote = nse.get_index_quote('NIFTY BANK')\n",
    "# pprint.pprint(nifty_quote)\n",
    "# all_stock_codes = nse.get_stock_codes()\n",
    "# pprint.pprint(all_stock_codes)\n",
    "# index_codes = nse.get_index_list()\n",
    "# pprint.pprint(index_codes)\n",
    "# adv_dec = nse.get_advances_declines()\n",
    "# pprint.pprint(adv_dec)\n",
    "# top_gainers = nse.get_top_gainers()\n",
    "# pprint.pprint(top_gainers)\n",
    "# top_losers = nse.get_top_losers()\n",
    "# pprint.pprint(top_losers)\n",
    "# print nse.is_valid_code('INFY')\n",
    "# print nse.is_valid_index('NIFTY BANK')"
   ]
  },
  {
   "cell_type": "code",
   "execution_count": 8,
   "metadata": {
    "collapsed": true
   },
   "outputs": [],
   "source": [
    "# def get_google_data(symbol, period, window):\n",
    "#     url_root = 'http://www.google.com/finance/getprices?i='\n",
    "#     url_root += str(period) + '&p=' + str(window)\n",
    "#     url_root += 'd&f=d,o,h,l,c,v&df=cpct&q=' + symbol\n",
    "#     print url_root\n",
    "#     response = urllib2.urlopen(url_root)\n",
    "#     data = response.read().split('\\n')\n",
    "#     pprint.pprint(data)\n",
    "#     parsed_data = []\n",
    "#     anchor_stamp = ''\n",
    "#     end = len(data)\n",
    "#     for i in range(7, end):\n",
    "#         cdata = data[i].split(',')\n",
    "#         if 'a' in cdata[0]:\n",
    "#             #first one record anchor timestamp\n",
    "#             anchor_stamp = cdata[0].replace('a', '')\n",
    "#             cts = int(anchor_stamp)\n",
    "#         else:\n",
    "#             try:\n",
    "#                 coffset = int(cdata[0])\n",
    "#                 cts = int(anchor_stamp) + (coffset * period)\n",
    "#                 parsed_data.append((dt.datetime.fromtimestamp(float(cts)), float(cdata[1]), float(cdata[2]), float(cdata[3]), float(cdata[4]), float(cdata[5])))\n",
    "#             except: pass\n",
    "#     df = pd.DataFrame(parsed_data)\n",
    "#     df.columns = ['ts', 'o', 'h', 'l', 'c', 'v']\n",
    "#     df.index = df.ts\n",
    "#     # del df['ts']\n",
    "#     return df"
   ]
  },
  {
   "cell_type": "code",
   "execution_count": 9,
   "metadata": {
    "collapsed": true
   },
   "outputs": [],
   "source": [
    "# def get_timestamp(date):\n",
    "#     return time.mktime(datetime.datetime.strptime(str(date),\"%Y-%m-%d %H:%M:%S\").timetuple())"
   ]
  },
  {
   "cell_type": "code",
   "execution_count": 10,
   "metadata": {
    "collapsed": true
   },
   "outputs": [],
   "source": [
    "# def get_day_transaction(data,ts,prev_trans):\n",
    "#     print \"day_start\"\n",
    "#     temp_prev_trans = prev_trans\n",
    "#     start_val = data[0]\n",
    "#     transactions = {\"buy_qty\":0,\"sell_qty\":0,\"buy_val\":0,\"sell_val\":0,\"brokerage\":0}\n",
    "#     trans_perc,block_amount = 2.0,5000\n",
    "#     for i in range(1,len(ts)):\n",
    "\n",
    "#         if i == len(ts)-1:\n",
    "#             if abs((data[i]-prev_trans)*100/prev_trans)<=2:\n",
    "#                 print \"<<<<<<<<<<<<<<<<<<<<<<<<< SQUARE OFF >>>>>>>>>>>>>>>>>>>>>>>>>>>\"\n",
    "#                 square = transactions[\"buy_qty\"]-transactions[\"sell_qty\"]\n",
    "#                 if square>0:\n",
    "#                     transactions[\"sell_qty\"] += abs(square)\n",
    "#                     transactions[\"sell_val\"] += abs(square)*data[i]\n",
    "#                     print  \"SELL\",abs(square),data[i]\n",
    "#                 if square<0:\n",
    "#                     transactions[\"buy_qty\"] += abs(square)\n",
    "#                     transactions[\"buy_val\"] += abs(square)*data[i]\n",
    "#                     print  \"BUY\",abs(square),data[i]                    \n",
    "#                 transactions[\"brokerage\"] = (transactions[\"buy_val\"]+transactions[\"sell_val\"])*0.0005\n",
    "#             else:\n",
    "#                 transactions[\"brokerage\"] = (transactions[\"buy_val\"]+transactions[\"sell_val\"])*0.005\n",
    "\n",
    "#         else:                    \n",
    "#             incr = (data[i]-temp_prev_trans)*100/temp_prev_trans\n",
    "#             if abs(incr) >= trans_perc:\n",
    "#                 trans_perc = 0.25\n",
    "#                 temp_prev_trans = data[i]\n",
    "#                 if incr < 0:\n",
    "#                     buy_qty = int(block_amount/data[i])\n",
    "#                     transactions[\"buy_qty\"] += buy_qty\n",
    "#                     transactions[\"buy_val\"] += buy_qty*data[i]\n",
    "#                     print \"BUY\",buy_qty,data[i]\n",
    "\n",
    "#                 if incr > 0:\n",
    "#                     sell_qty = int(block_amount/data[i])\n",
    "#                     transactions[\"sell_qty\"] += sell_qty\n",
    "#                     transactions[\"sell_val\"] += sell_qty*data[i]\n",
    "#                     print \"SELL\",sell_qty,data[i]\n",
    "\n",
    "#     print \"day_end\"\n",
    "#     print \"TRANSACTION:\",transactions\n",
    "#     print \"\"\n",
    "#     return temp_prev_trans,transactions"
   ]
  },
  {
   "cell_type": "code",
   "execution_count": 11,
   "metadata": {
    "collapsed": true
   },
   "outputs": [],
   "source": [
    "# def generate_array(comp,time,window):\n",
    "#     spy = get_google_data(comp, time, window)\n",
    "#     data = spy['o']\n",
    "#     ts = spy['ts']\n",
    "#     array = []\n",
    "#     start_day = 0\n",
    "#     for index,item in enumerate(ts):\n",
    "#         day = str(item).split(\" \")[0].split(\"-\")[2]\n",
    "#         if day != start_day:\n",
    "#             array.append(index)\n",
    "#             start_day = day\n",
    "#     return array,data,ts"
   ]
  },
  {
   "cell_type": "code",
   "execution_count": 12,
   "metadata": {
    "collapsed": true
   },
   "outputs": [],
   "source": [
    "# data = get_google_data(\"SBIN\",60,1)\n",
    "\n",
    "# array,data,ts = generate_array(\"SBBJ\",60,1)\n",
    "# print array,data,ts\n",
    "# prev_trans = 1\n",
    "# all_transactions = {\"buy_qty\":0,\"sell_qty\":0,\"buy_val\":0,\"sell_val\":0,\"brokerage\":0}\n",
    "\n",
    "# for index in range(len(array)-1):\n",
    "#     prev_trans,day_trans = get_day_transaction(data[array[index]:array[index+1]],ts[array[index]:array[index+1]],prev_trans)\n",
    "#     all_transactions[\"buy_qty\"] += day_trans[\"buy_qty\"]\n",
    "#     all_transactions[\"sell_qty\"] += day_trans[\"sell_qty\"]\n",
    "#     all_transactions[\"buy_val\"] += day_trans[\"buy_val\"]\n",
    "#     all_transactions[\"sell_val\"] += day_trans[\"sell_val\"]\n",
    "#     all_transactions[\"brokerage\"] += day_trans[\"brokerage\"]\n",
    "\n",
    "# print \"PROFIT:\",all_transactions[\"sell_val\"]-all_transactions[\"buy_val\"]-all_transactions[\"brokerage\"],\"HOLDING:\",all_transactions[\"buy_qty\"]-all_transactions[\"sell_qty\"]\n",
    "\n",
    "# company = Share('SBIN.NS')\n",
    "# pprint.pprint(company.get_historical('2015-07-01', '2016-02-05'))\n",
    "# print company.get_open()\n",
    "# print company.get_price()\n",
    "# print company.get_trade_datetime()\n",
    "# print company.refresh()\n",
    "# print company.get_info()\n",
    "# print company.get_volume()\n",
    "# print company.get_prev_close()\n",
    "# print company.get_avg_daily_volume()\n",
    "# print company.get_stock_exchange()\n",
    "# print company.get_market_cap()\n",
    "# print company.get_book_value()\n",
    "# print company.get_ebitda()\n",
    "# print company.get_dividend_share()\n",
    "# print company.get_dividend_yield()\n",
    "# print company.get_earnings_share()\n",
    "# print company.get_days_high()\n",
    "# print company.get_days_low()\n",
    "# print company.get_year_high()\n",
    "# print company.get_year_low()\n",
    "# print company.get_50day_moving_avg()\n",
    "# print company.get_200day_moving_avg()\n",
    "# print company.get_price_earnings_ratio()\n",
    "# print company.get_price_earnings_growth_ratio()\n",
    "# print company.get_price_sales()\n",
    "# print company.get_price_book()\n",
    "# print company.get_short_ratio()"
   ]
  },
  {
   "cell_type": "code",
   "execution_count": 13,
   "metadata": {
    "collapsed": true
   },
   "outputs": [],
   "source": [
    "# import MySQLdb\n",
    "# from random import randint\n",
    "# db=MySQLdb.connect(host=\"localhost\",port=3306,user=\"root\",passwd=\"290990\",db=\"practice\")\n",
    "# cursor = db.cursor()\n",
    "# cursor.execute(query)\n",
    "# data = cursor.fetchall()\n",
    "# db.commit()\n",
    "# pprint.pprint(data)\n",
    "\n",
    "# count = 0\n",
    "# name = \"sbin\"\n",
    "# while(count < 10):\n",
    "#     timestamp = time.time()\n",
    "#     quantity = 0\n",
    "#     type = \"buy\"\n",
    "#     price =randint(0,9)\n",
    "#     print count,price\n",
    "#     count += 1\n",
    "#     if price >= 5:\n",
    "#         query = 'insert into exp values('+str(timestamp)+',\"'+name+'\",\"'+type+'\",'+str(quantity)+','+str(price)+')'\n",
    "#         # print query\n",
    "#         cursor.execute(query)\n",
    "#         db.commit()\n",
    "#     time.sleep(1)"
   ]
  },
  {
   "cell_type": "code",
   "execution_count": 14,
   "metadata": {
    "collapsed": true
   },
   "outputs": [],
   "source": [
    "def my_funct(symbol,time,day):\n",
    "    if symbol in [\"LTI\",\"MRF\",\"SPICEJET\"]:\n",
    "        if symbol == \"MRF\": symb_code = \"500290\"\n",
    "        if symbol == \"SPICEJET\": symb_code = \"500285\"\n",
    "        if symbol == \"LTI\": symb_code = \"540005\"\n",
    "    else: symb_code = symbol\n",
    "    url_root = 'http://www.google.com/finance/getprices?i='\n",
    "    url_root += str(time) + '&p=' + str(day)\n",
    "    url_root += 'd&f=d,o,h,l,c,v&df=cpct&q=' + symb_code\n",
    "    # print url_root\n",
    "    response = urllib2.urlopen(url_root)\n",
    "    data = response.read().split('\\n')\n",
    "    data_time,data_open,data_high,data_low,data_close,data_volume,start_time,day_open = [],[],[],[],[],[],0,0\n",
    "    # print data\n",
    "    for item in range(7,len(data)-1):\n",
    "        data_item = data[item].split(\",\")\n",
    "        if 'a' in data_item[0]:\n",
    "            start_time = int(data_item[0].replace('a', ''))\n",
    "            data_time.append(datetime.datetime.fromtimestamp(int(start_time)))\n",
    "            day_open = float(data_item[1])\n",
    "        else:\n",
    "            data_time.append(datetime.datetime.fromtimestamp(start_time+int(data_item[0])*60))\n",
    "        data_open.append(float(data_item[1]))\n",
    "        data_high.append(float(data_item[2]))\n",
    "        data_low.append(float(data_item[3]))\n",
    "        data_close.append(float(data_item[4]))\n",
    "        data_volume.append(float(data_item[5]))\n",
    "        day_close = float(data_item[4])\n",
    "    # print len(data_open)\n",
    "    day_high = max(data_high)\n",
    "    day_low = min(data_low)\n",
    "    day_volume = int(sum(data_volume))\n",
    "    day_perc = 100*(day_close-day_open)/day_open\n",
    "    fig = plt.figure()\n",
    "    plt.plot(data_time,data_open)\n",
    "    plt.xlabel(\"Time\")\n",
    "    plt.ylabel(\"Price\")\n",
    "    plt.title(symbol)\n",
    "    plt.grid(True)\n",
    "    plt.gca().get_yaxis().get_major_formatter().set_useOffset(False)\n",
    "    # plt.show()\n",
    "    fig.savefig(symbol+'.png')\n",
    "    return day_open,day_close,day_high,day_low,day_volume,round(day_perc,2)\n",
    "    # return data_time,data_open"
   ]
  },
  {
   "cell_type": "code",
   "execution_count": 15,
   "metadata": {
    "collapsed": true
   },
   "outputs": [],
   "source": [
    "def share_mail(company_list):\n",
    "    msg = '<html><body><table style=\"font-family:Segoe UI;border:1px solid black\"><tr><td>NAME</td><td>OPEN</td><td>CLOSE</td><td>HIGH</td><td>LOW</td><td>VOLUME</td><td>PERC</td><tr>'\n",
    "    for item in company_list:\n",
    "        t1,t2,t3,t4,t5,t6 = my_funct(item,60,1)\n",
    "        if t6 > 0 : col = \"green\"\n",
    "        if t6 < 0 : col = \"red\"\n",
    "        msg += '<tr><td>'+item+'</td><td>'+str(t1)+'</td><td>'+str(t2)+'</td><td>'+str(t3)+'</td><td>'+str(t4)+'</td><td>'+str(t5)+'</td><td style=\"color:'+col+'\">'+str(t6)+'</td><tr>'\n",
    "    msg += '</table></body></html>'\n",
    "    return msg"
   ]
  },
  {
   "cell_type": "code",
   "execution_count": 16,
   "metadata": {
    "collapsed": false
   },
   "outputs": [
    {
     "ename": "ValueError",
     "evalue": "max() arg is an empty sequence",
     "output_type": "error",
     "traceback": [
      "\u001b[1;31m---------------------------------------------------------------------------\u001b[0m",
      "\u001b[1;31mValueError\u001b[0m                                Traceback (most recent call last)",
      "\u001b[1;32m<ipython-input-16-3b0455174b8a>\u001b[0m in \u001b[0;36m<module>\u001b[1;34m()\u001b[0m\n\u001b[0;32m     29\u001b[0m     \u001b[0mserver\u001b[0m\u001b[1;33m.\u001b[0m\u001b[0mquit\u001b[0m\u001b[1;33m(\u001b[0m\u001b[1;33m)\u001b[0m\u001b[1;33m\u001b[0m\u001b[0m\n\u001b[0;32m     30\u001b[0m \u001b[1;33m\u001b[0m\u001b[0m\n\u001b[1;32m---> 31\u001b[1;33m \u001b[0msend_mail\u001b[0m\u001b[1;33m(\u001b[0m\u001b[1;33m)\u001b[0m\u001b[1;33m\u001b[0m\u001b[0m\n\u001b[0m",
      "\u001b[1;32m<ipython-input-16-3b0455174b8a>\u001b[0m in \u001b[0;36msend_mail\u001b[1;34m()\u001b[0m\n\u001b[0;32m      8\u001b[0m     \u001b[0mpath\u001b[0m \u001b[1;33m=\u001b[0m \u001b[1;34m''\u001b[0m\u001b[1;33m\u001b[0m\u001b[0m\n\u001b[0;32m      9\u001b[0m     \u001b[0mfilename\u001b[0m \u001b[1;33m=\u001b[0m \u001b[1;34m''\u001b[0m\u001b[1;33m\u001b[0m\u001b[0m\n\u001b[1;32m---> 10\u001b[1;33m     \u001b[0mbody\u001b[0m \u001b[1;33m=\u001b[0m \u001b[0mshare_mail\u001b[0m\u001b[1;33m(\u001b[0m\u001b[0mcompany_list\u001b[0m\u001b[1;33m)\u001b[0m\u001b[1;33m\u001b[0m\u001b[0m\n\u001b[0m\u001b[0;32m     11\u001b[0m     \u001b[0mmsg\u001b[0m \u001b[1;33m=\u001b[0m \u001b[0mMIMEMultipart\u001b[0m\u001b[1;33m(\u001b[0m\u001b[1;33m)\u001b[0m\u001b[1;33m\u001b[0m\u001b[0m\n\u001b[0;32m     12\u001b[0m     \u001b[0mmsg\u001b[0m\u001b[1;33m[\u001b[0m\u001b[1;34m'From'\u001b[0m\u001b[1;33m]\u001b[0m \u001b[1;33m=\u001b[0m \u001b[0mfromaddr\u001b[0m\u001b[1;33m\u001b[0m\u001b[0m\n",
      "\u001b[1;32m<ipython-input-15-463a731958d0>\u001b[0m in \u001b[0;36mshare_mail\u001b[1;34m(company_list)\u001b[0m\n\u001b[0;32m      2\u001b[0m     \u001b[0mmsg\u001b[0m \u001b[1;33m=\u001b[0m \u001b[1;34m'<html><body><table style=\"font-family:Segoe UI;border:1px solid black\"><tr><td>NAME</td><td>OPEN</td><td>CLOSE</td><td>HIGH</td><td>LOW</td><td>VOLUME</td><td>PERC</td><tr>'\u001b[0m\u001b[1;33m\u001b[0m\u001b[0m\n\u001b[0;32m      3\u001b[0m     \u001b[1;32mfor\u001b[0m \u001b[0mitem\u001b[0m \u001b[1;32min\u001b[0m \u001b[0mcompany_list\u001b[0m\u001b[1;33m:\u001b[0m\u001b[1;33m\u001b[0m\u001b[0m\n\u001b[1;32m----> 4\u001b[1;33m         \u001b[0mt1\u001b[0m\u001b[1;33m,\u001b[0m\u001b[0mt2\u001b[0m\u001b[1;33m,\u001b[0m\u001b[0mt3\u001b[0m\u001b[1;33m,\u001b[0m\u001b[0mt4\u001b[0m\u001b[1;33m,\u001b[0m\u001b[0mt5\u001b[0m\u001b[1;33m,\u001b[0m\u001b[0mt6\u001b[0m \u001b[1;33m=\u001b[0m \u001b[0mmy_funct\u001b[0m\u001b[1;33m(\u001b[0m\u001b[0mitem\u001b[0m\u001b[1;33m,\u001b[0m\u001b[1;36m60\u001b[0m\u001b[1;33m,\u001b[0m\u001b[1;36m1\u001b[0m\u001b[1;33m)\u001b[0m\u001b[1;33m\u001b[0m\u001b[0m\n\u001b[0m\u001b[0;32m      5\u001b[0m         \u001b[1;32mif\u001b[0m \u001b[0mt6\u001b[0m \u001b[1;33m>\u001b[0m \u001b[1;36m0\u001b[0m \u001b[1;33m:\u001b[0m \u001b[0mcol\u001b[0m \u001b[1;33m=\u001b[0m \u001b[1;34m\"green\"\u001b[0m\u001b[1;33m\u001b[0m\u001b[0m\n\u001b[0;32m      6\u001b[0m         \u001b[1;32mif\u001b[0m \u001b[0mt6\u001b[0m \u001b[1;33m<\u001b[0m \u001b[1;36m0\u001b[0m \u001b[1;33m:\u001b[0m \u001b[0mcol\u001b[0m \u001b[1;33m=\u001b[0m \u001b[1;34m\"red\"\u001b[0m\u001b[1;33m\u001b[0m\u001b[0m\n",
      "\u001b[1;32m<ipython-input-14-6b56f22d5a13>\u001b[0m in \u001b[0;36mmy_funct\u001b[1;34m(symbol, time, day)\u001b[0m\n\u001b[0;32m     28\u001b[0m         \u001b[0mday_close\u001b[0m \u001b[1;33m=\u001b[0m \u001b[0mfloat\u001b[0m\u001b[1;33m(\u001b[0m\u001b[0mdata_item\u001b[0m\u001b[1;33m[\u001b[0m\u001b[1;36m4\u001b[0m\u001b[1;33m]\u001b[0m\u001b[1;33m)\u001b[0m\u001b[1;33m\u001b[0m\u001b[0m\n\u001b[0;32m     29\u001b[0m     \u001b[1;31m# print len(data_open)\u001b[0m\u001b[1;33m\u001b[0m\u001b[1;33m\u001b[0m\u001b[0m\n\u001b[1;32m---> 30\u001b[1;33m     \u001b[0mday_high\u001b[0m \u001b[1;33m=\u001b[0m \u001b[0mmax\u001b[0m\u001b[1;33m(\u001b[0m\u001b[0mdata_high\u001b[0m\u001b[1;33m)\u001b[0m\u001b[1;33m\u001b[0m\u001b[0m\n\u001b[0m\u001b[0;32m     31\u001b[0m     \u001b[0mday_low\u001b[0m \u001b[1;33m=\u001b[0m \u001b[0mmin\u001b[0m\u001b[1;33m(\u001b[0m\u001b[0mdata_low\u001b[0m\u001b[1;33m)\u001b[0m\u001b[1;33m\u001b[0m\u001b[0m\n\u001b[0;32m     32\u001b[0m     \u001b[0mday_volume\u001b[0m \u001b[1;33m=\u001b[0m \u001b[0mint\u001b[0m\u001b[1;33m(\u001b[0m\u001b[0msum\u001b[0m\u001b[1;33m(\u001b[0m\u001b[0mdata_volume\u001b[0m\u001b[1;33m)\u001b[0m\u001b[1;33m)\u001b[0m\u001b[1;33m\u001b[0m\u001b[0m\n",
      "\u001b[1;31mValueError\u001b[0m: max() arg is an empty sequence"
     ]
    }
   ],
   "source": [
    "def send_mail():\n",
    "    fromaddr = 'souryapoddar290990@gmail.com'\n",
    "    toaddr = [\"souryapoddar290990@gmail.com\"]\n",
    "    password = \"sourya1000\"\n",
    "    subject = \"SHARE UPDATE\"\n",
    "    company_list = [\"ARVINFRA\",\"BHEL\",\"COALINDIA\",\"ICICIBANK\",\"LTI\",\"MRF\",\"POWERGRID\",\"RPOWER\",\"SBBJ\",\"SBIN\",\"SPICEJET\",\"STOREONE\",\"TATASTEEL\",\"THYROCARE\",\"VOLTAS\"]\n",
    "    # company_list = [\"LTI\"]\n",
    "    path = ''\n",
    "    filename = ''\n",
    "    body = share_mail(company_list)\n",
    "    msg = MIMEMultipart()\n",
    "    msg['From'] = fromaddr\n",
    "    msg['To'] = \",\".join(toaddr)\n",
    "    msg['Subject'] = subject\n",
    "    msg.attach(MIMEText(body, 'html'))\n",
    "    for item in company_list:\n",
    "        filename = item+\".png\"\n",
    "        attachment = open(path+filename, \"rb\")\n",
    "        part = MIMEBase('application', 'octet-stream')\n",
    "        part.set_payload((attachment).read())\n",
    "        encoders.encode_base64(part)\n",
    "        part.add_header('Content-Disposition', \"attachment; filename= %s\" % filename)\n",
    "        msg.attach(part)\n",
    "    server = smtplib.SMTP('smtp.gmail.com', 587)\n",
    "    server.starttls()\n",
    "    server.login(fromaddr,password)\n",
    "    text = msg.as_string()\n",
    "    server.sendmail(fromaddr, toaddr, text)\n",
    "    server.quit()\n",
    "\n",
    "send_mail()"
   ]
  },
  {
   "cell_type": "code",
   "execution_count": null,
   "metadata": {
    "collapsed": true
   },
   "outputs": [],
   "source": [
    "def send_push():\n",
    "    from pushbullet import Pushbullet\n",
    "    API_KEY = 'o.nYHrQiyqBr2NTj59HaQFSSGsgoLDYQrv'\n",
    "    # API_KEY = 'o.gmWPEjdjJvbZRqnTvCc7sHkonggCW48I'\n",
    "    pb = Pushbullet(API_KEY)\n",
    "    print pb.devices\n",
    "    company_list = [\"ARVINFRA\",\"BHEL\",\"COALINDIA\",\"ICICIBANK\",\"LTI\",\"MRF\",\"POWERGRID\",\"RPOWER\",\"SBBJ\",\"SBIN\",\"SPICEJET\",\"STOREONE\",\"TATASTEEL\",\"THYROCARE\",\"VOLTAS\"]\n",
    "    title = \"Share\"\n",
    "    text = \"\"\n",
    "    for item in company_list:\n",
    "        t1,t2,t3,t4,t5,t6 = my_funct(item,60,1)\n",
    "        text = item+' '+str(t1)+' '+str(t2)+' '+str(t3)+' '+str(t4)+' '+str(t6)+\"\\n\"\n",
    "        push = pb.push_note(title,text)\n",
    "\n",
    "# send_push()"
   ]
  },
  {
   "cell_type": "code",
   "execution_count": null,
   "metadata": {
    "collapsed": true
   },
   "outputs": [],
   "source": [
    "# data_time,data_open = my_funct(\"POWERGRID\",120,60)\n",
    "# for item in range(len(data_time)):\n",
    "#     print data_time[item],data_open[item]"
   ]
  }
 ],
 "metadata": {
  "kernelspec": {
   "display_name": "Python 2",
   "language": "python",
   "name": "python2"
  },
  "language_info": {
   "codemirror_mode": {
    "name": "ipython",
    "version": 2
   },
   "file_extension": ".py",
   "mimetype": "text/x-python",
   "name": "python",
   "nbconvert_exporter": "python",
   "pygments_lexer": "ipython2",
   "version": "2.7.11"
  }
 },
 "nbformat": 4,
 "nbformat_minor": 0
}
